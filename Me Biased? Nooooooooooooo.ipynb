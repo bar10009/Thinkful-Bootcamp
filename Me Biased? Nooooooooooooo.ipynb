{
 "cells": [
  {
   "cell_type": "markdown",
   "metadata": {},
   "source": [
    "DRILL: Am I Biased?\n",
    "For each of the following scenarios, call out the potential biases in the proposed experiment. Do your best to try to discover not only the bias, but the initial design. There is plenty of room for interpretation here, so make sure to state what assumptions you're making.\n",
    "\n",
    "1. You're testing advertising emails for a bathing suit company and you test one version of the email in February and the other in May.\n",
    "\n",
    "2. You open a clinic to treat anxiety and find that the people who visit show a higher rate of anxiety than the general population.\n",
    "\n",
    "3. You launch a new ad billboard based campaign and see an increase in website visits in the first week.\n",
    "\n",
    "4. You launch a loyalty program but see no change in visits in the first week."
   ]
  },
  {
   "cell_type": "markdown",
   "metadata": {},
   "source": [
    "1 Why would anyone buy a bahting suit in North America in February. May seems like a better time to start selling things like that. "
   ]
  },
  {
   "cell_type": "markdown",
   "metadata": {},
   "source": [
    "2 What is the rate for other clinics in the area? Rather than the general population, what is the clinic rate vs the rate for those that have Anxiety in the neighborhood, town, city, or state?"
   ]
  },
  {
   "cell_type": "markdown",
   "metadata": {},
   "source": [
    "3 Were the "
   ]
  },
  {
   "cell_type": "markdown",
   "metadata": {},
   "source": [
    "4 At first thought, the loyalty campaign doesn't work. We need to give it more time and have mroe weeks to compare those visits in that time compared to the visits you got before the program. "
   ]
  }
 ],
 "metadata": {
  "kernelspec": {
   "display_name": "Python 3",
   "language": "python",
   "name": "python3"
  },
  "language_info": {
   "codemirror_mode": {
    "name": "ipython",
    "version": 3
   },
   "file_extension": ".py",
   "mimetype": "text/x-python",
   "name": "python",
   "nbconvert_exporter": "python",
   "pygments_lexer": "ipython3",
   "version": "3.5.2"
  }
 },
 "nbformat": 4,
 "nbformat_minor": 2
}
