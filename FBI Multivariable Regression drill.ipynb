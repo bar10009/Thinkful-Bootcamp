{
 "cells": [
  {
   "cell_type": "code",
   "execution_count": 49,
   "metadata": {},
   "outputs": [],
   "source": [
    "import pandas as pd\n",
    "from matplotlib import pyplot as plt\n",
    "import numpy as np\n",
    "from sklearn import linear_model\n",
    "%matplotlib inline\n",
    "pd.options.display.float_format = '{:.3f}'.format\n",
    "\n",
    "# Suppress annoying harmless error.\n",
    "import warnings\n",
    "warnings.filterwarnings(action=\"ignore\", module=\"scipy\", message=\"^internal gelsd\")"
   ]
  },
  {
   "cell_type": "markdown",
   "metadata": {},
   "source": [
    "## Multivariable Regression"
   ]
  },
  {
   "cell_type": "markdown",
   "metadata": {},
   "source": [
    "The 'population' variable is already set for you, but you will need to create the last three features. \n",
    "\n",
    "Robbery and Murder are currently continuous variables. For this model, please use these variables to create categorical features where values greater than 0 are coded 1, and values equal to 0 are coded 0.\n",
    "\n",
    "You'll use this data and model in a later assignment- for now, just write the code you need to get the data ready. \n",
    "\n",
    "Don't forget basic data cleaning procedures, either! Do some graphing to see if there are any anomalous cases, and decide how you want to deal with them. (link to cleaning data here https://courses.thinkful.com/data-201v1/assignment/1.3.4)"
   ]
  },
  {
   "cell_type": "markdown",
   "metadata": {},
   "source": [
    "$$ Property crime = \\alpha + Population + Population^2 + Murder + Robbery$$"
   ]
  },
  {
   "cell_type": "code",
   "execution_count": 50,
   "metadata": {},
   "outputs": [],
   "source": [
    "df = pd.read_excel(\"/Users/bradleyrhyins/Desktop/Thinkful-Projects/table_8_offenses_known_to_law_enforcement_new_york_by_city_2013.xls\", sep=r'\\\\t')\n",
    "#df.columns=['review', 'label']\n",
    "\n",
    "#sms_raw = pd.read_csv(df, delimiter= '\\t', header=None)\n",
    "#sms_raw.columns = ['murder', 'robbery']"
   ]
  },
  {
   "cell_type": "code",
   "execution_count": null,
   "metadata": {},
   "outputs": [],
   "source": []
  },
  {
   "cell_type": "code",
   "execution_count": 51,
   "metadata": {},
   "outputs": [],
   "source": [
    "df.fillna(0, inplace=True)"
   ]
  },
  {
   "cell_type": "code",
   "execution_count": null,
   "metadata": {},
   "outputs": [],
   "source": [
    "#Exploration starts here\n",
    "df.columns"
   ]
  },
  {
   "cell_type": "code",
   "execution_count": 52,
   "metadata": {},
   "outputs": [
    {
     "data": {
      "text/html": [
       "<div>\n",
       "<style scoped>\n",
       "    .dataframe tbody tr th:only-of-type {\n",
       "        vertical-align: middle;\n",
       "    }\n",
       "\n",
       "    .dataframe tbody tr th {\n",
       "        vertical-align: top;\n",
       "    }\n",
       "\n",
       "    .dataframe thead th {\n",
       "        text-align: right;\n",
       "    }\n",
       "</style>\n",
       "<table border=\"1\" class=\"dataframe\">\n",
       "  <thead>\n",
       "    <tr style=\"text-align: right;\">\n",
       "      <th></th>\n",
       "      <th>City</th>\n",
       "      <th>Population</th>\n",
       "      <th>Violent\n",
       "crime</th>\n",
       "      <th>Murder</th>\n",
       "      <th>Rape\n",
       "(revised\n",
       "definition)1</th>\n",
       "      <th>Rape\n",
       "(legacy\n",
       "definition)2</th>\n",
       "      <th>Robbery</th>\n",
       "      <th>Aggravated\n",
       "assault</th>\n",
       "      <th>Property\n",
       "crime</th>\n",
       "      <th>Burglary</th>\n",
       "      <th>Larceny-\n",
       "theft</th>\n",
       "      <th>Motor\n",
       "vehicle\n",
       "theft</th>\n",
       "      <th>Arson3</th>\n",
       "    </tr>\n",
       "  </thead>\n",
       "  <tbody>\n",
       "    <tr>\n",
       "      <th>0</th>\n",
       "      <td>Adams Village</td>\n",
       "      <td>1861.000</td>\n",
       "      <td>0.000</td>\n",
       "      <td>0.000</td>\n",
       "      <td>0.000</td>\n",
       "      <td>0.000</td>\n",
       "      <td>0.000</td>\n",
       "      <td>0.000</td>\n",
       "      <td>12.000</td>\n",
       "      <td>2.000</td>\n",
       "      <td>10.000</td>\n",
       "      <td>0.000</td>\n",
       "      <td>0.000</td>\n",
       "    </tr>\n",
       "    <tr>\n",
       "      <th>1</th>\n",
       "      <td>Addison Town and Village</td>\n",
       "      <td>2577.000</td>\n",
       "      <td>3.000</td>\n",
       "      <td>0.000</td>\n",
       "      <td>0.000</td>\n",
       "      <td>0.000</td>\n",
       "      <td>0.000</td>\n",
       "      <td>3.000</td>\n",
       "      <td>24.000</td>\n",
       "      <td>3.000</td>\n",
       "      <td>20.000</td>\n",
       "      <td>1.000</td>\n",
       "      <td>0.000</td>\n",
       "    </tr>\n",
       "    <tr>\n",
       "      <th>2</th>\n",
       "      <td>Akron Village</td>\n",
       "      <td>2846.000</td>\n",
       "      <td>3.000</td>\n",
       "      <td>0.000</td>\n",
       "      <td>0.000</td>\n",
       "      <td>0.000</td>\n",
       "      <td>0.000</td>\n",
       "      <td>3.000</td>\n",
       "      <td>16.000</td>\n",
       "      <td>1.000</td>\n",
       "      <td>15.000</td>\n",
       "      <td>0.000</td>\n",
       "      <td>0.000</td>\n",
       "    </tr>\n",
       "    <tr>\n",
       "      <th>3</th>\n",
       "      <td>Albany</td>\n",
       "      <td>97956.000</td>\n",
       "      <td>791.000</td>\n",
       "      <td>8.000</td>\n",
       "      <td>0.000</td>\n",
       "      <td>30.000</td>\n",
       "      <td>227.000</td>\n",
       "      <td>526.000</td>\n",
       "      <td>4090.000</td>\n",
       "      <td>705.000</td>\n",
       "      <td>3243.000</td>\n",
       "      <td>142.000</td>\n",
       "      <td>0.000</td>\n",
       "    </tr>\n",
       "    <tr>\n",
       "      <th>4</th>\n",
       "      <td>Albion Village</td>\n",
       "      <td>6388.000</td>\n",
       "      <td>23.000</td>\n",
       "      <td>0.000</td>\n",
       "      <td>0.000</td>\n",
       "      <td>3.000</td>\n",
       "      <td>4.000</td>\n",
       "      <td>16.000</td>\n",
       "      <td>223.000</td>\n",
       "      <td>53.000</td>\n",
       "      <td>165.000</td>\n",
       "      <td>5.000</td>\n",
       "      <td>0.000</td>\n",
       "    </tr>\n",
       "  </tbody>\n",
       "</table>\n",
       "</div>"
      ],
      "text/plain": [
       "                       City  Population  Violent\\ncrime  Murder  \\\n",
       "0             Adams Village    1861.000           0.000   0.000   \n",
       "1  Addison Town and Village    2577.000           3.000   0.000   \n",
       "2             Akron Village    2846.000           3.000   0.000   \n",
       "3                    Albany   97956.000         791.000   8.000   \n",
       "4            Albion Village    6388.000          23.000   0.000   \n",
       "\n",
       "   Rape\\n(revised\\ndefinition)1  Rape\\n(legacy\\ndefinition)2  Robbery  \\\n",
       "0                         0.000                        0.000    0.000   \n",
       "1                         0.000                        0.000    0.000   \n",
       "2                         0.000                        0.000    0.000   \n",
       "3                         0.000                       30.000  227.000   \n",
       "4                         0.000                        3.000    4.000   \n",
       "\n",
       "   Aggravated\\nassault  Property\\ncrime  Burglary  Larceny-\\ntheft  \\\n",
       "0                0.000           12.000     2.000           10.000   \n",
       "1                3.000           24.000     3.000           20.000   \n",
       "2                3.000           16.000     1.000           15.000   \n",
       "3              526.000         4090.000   705.000         3243.000   \n",
       "4               16.000          223.000    53.000          165.000   \n",
       "\n",
       "   Motor\\nvehicle\\ntheft  Arson3  \n",
       "0                  0.000   0.000  \n",
       "1                  1.000   0.000  \n",
       "2                  0.000   0.000  \n",
       "3                142.000   0.000  \n",
       "4                  5.000   0.000  "
      ]
     },
     "metadata": {},
     "output_type": "display_data"
    }
   ],
   "source": [
    "display(df.head())\n",
    "#Robbery and Murder are currently continuous variables. \n",
    "#For this model, please use these variables to create categorical features where values greater than 0 are coded 1, \n",
    "#and values equal to 0 are coded 0."
   ]
  },
  {
   "cell_type": "code",
   "execution_count": 70,
   "metadata": {},
   "outputs": [],
   "source": [
    "df[\"Robbery\"] = [1 if x > 0 else 0 for x in df[\"Robbery\"]]\n",
    "df[\"Properyci\"] = [1 if x > 0 else 0 for x in df[\"Murder\"]]\n",
    "df[\"Burglary\"] = [1 if x > 0 else 0 for x in df[\"Burglary\"]]"
   ]
  },
  {
   "cell_type": "code",
   "execution_count": 71,
   "metadata": {},
   "outputs": [
    {
     "name": "stdout",
     "output_type": "stream",
     "text": [
      "                       City  Population  Violent\\ncrime  Murder  \\\n",
      "0             Adams Village    1861.000           0.000       0   \n",
      "1  Addison Town and Village    2577.000           3.000       0   \n",
      "2             Akron Village    2846.000           3.000       0   \n",
      "3                    Albany   97956.000         791.000       1   \n",
      "4            Albion Village    6388.000          23.000       0   \n",
      "\n",
      "   Rape\\n(revised\\ndefinition)1  Rape\\n(legacy\\ndefinition)2  Robbery  \\\n",
      "0                         0.000                        0.000        0   \n",
      "1                         0.000                        0.000        0   \n",
      "2                         0.000                        0.000        0   \n",
      "3                         0.000                       30.000        1   \n",
      "4                         0.000                        3.000        1   \n",
      "\n",
      "   Aggravated\\nassault  Property\\ncrime  Burglary  Larceny-\\ntheft  \\\n",
      "0                0.000           12.000         1           10.000   \n",
      "1                3.000           24.000         1           20.000   \n",
      "2                3.000           16.000         1           15.000   \n",
      "3              526.000         4090.000         1         3243.000   \n",
      "4               16.000          223.000         1          165.000   \n",
      "\n",
      "   Motor\\nvehicle\\ntheft  Arson3  \n",
      "0                  0.000   0.000  \n",
      "1                  1.000   0.000  \n",
      "2                  0.000   0.000  \n",
      "3                142.000   0.000  \n",
      "4                  5.000   0.000  \n"
     ]
    }
   ],
   "source": [
    "print df.head()"
   ]
  },
  {
   "cell_type": "code",
   "execution_count": 72,
   "metadata": {},
   "outputs": [],
   "source": [
    "#multipying these two values to create a super value \n",
    "df[\"MurderBurglary\"] = [x*y for x, y in zip(df[\"Robbery\"], df[\"Burglary\"])]"
   ]
  },
  {
   "cell_type": "code",
   "execution_count": 73,
   "metadata": {},
   "outputs": [
    {
     "data": {
      "text/plain": [
       "LinearRegression(copy_X=True, fit_intercept=True, n_jobs=1, normalize=False)"
      ]
     },
     "execution_count": 73,
     "metadata": {},
     "output_type": "execute_result"
    }
   ],
   "source": [
    "# Instantiate and fit our model.\n",
    "regr = linear_model.LinearRegression()\n",
    "#use this format for formatting sample examples in course material\n",
    "Y = df['Murder'].values.reshape(-1, 1)\n",
    "X = df[['Population','Robbery','Burglary', 'MurderBurglary']]\n",
    "regr.fit(X, Y)"
   ]
  },
  {
   "cell_type": "code",
   "execution_count": 82,
   "metadata": {},
   "outputs": [
    {
     "name": "stdout",
     "output_type": "stream",
     "text": [
      "('\\nCoefficients: \\n', array([[ 1.10269027e-07, -3.79325454e-05,  7.99392596e-03,\n",
      "         2.15913874e-01]]))\n",
      "('\\nIntercept: \\n', array([-0.00014975]))\n",
      "\n",
      "R-squared:\n",
      "0.12086997252171693\n"
     ]
    }
   ],
   "source": [
    "print('\\nCoefficients: \\n', regr.coef_)\n",
    "print('\\nIntercept: \\n', regr.intercept_)\n",
    "print('\\nR-squared:')\n",
    "print(regr.score(X, Y))"
   ]
  },
  {
   "cell_type": "code",
   "execution_count": 83,
   "metadata": {},
   "outputs": [],
   "source": [
    "#predicting those target variables with these features\n",
    "y1 = regr.predict(X)"
   ]
  },
  {
   "cell_type": "code",
   "execution_count": 78,
   "metadata": {},
   "outputs": [
    {
     "data": {
      "text/plain": [
       "Index([                        u'City',                   u'Population',\n",
       "                     u'Violent\\ncrime',                       u'Murder',\n",
       "       u'Rape\\n(revised\\ndefinition)1',  u'Rape\\n(legacy\\ndefinition)2',\n",
       "                            u'Robbery',          u'Aggravated\\nassault',\n",
       "                    u'Property\\ncrime',                     u'Burglary',\n",
       "                    u'Larceny-\\ntheft',        u'Motor\\nvehicle\\ntheft',\n",
       "                             u'Arson3',               u'MurderBurglary'],\n",
       "      dtype='object')"
      ]
     },
     "execution_count": 78,
     "metadata": {},
     "output_type": "execute_result"
    }
   ],
   "source": [
    "df.columns"
   ]
  },
  {
   "cell_type": "code",
   "execution_count": 79,
   "metadata": {},
   "outputs": [
    {
     "data": {
      "text/plain": [
       "(351, 14)"
      ]
     },
     "execution_count": 79,
     "metadata": {},
     "output_type": "execute_result"
    }
   ],
   "source": [
    "df.shape"
   ]
  },
  {
   "cell_type": "code",
   "execution_count": 80,
   "metadata": {},
   "outputs": [
    {
     "name": "stdout",
     "output_type": "stream",
     "text": [
      "<class 'pandas.core.frame.DataFrame'>\n",
      "RangeIndex: 351 entries, 0 to 350\n",
      "Data columns (total 14 columns):\n",
      "City                          351 non-null object\n",
      "Population                    351 non-null float64\n",
      "Violent\n",
      "crime                 351 non-null float64\n",
      "Murder                        351 non-null int64\n",
      "Rape\n",
      "(revised\n",
      "definition)1    351 non-null float64\n",
      "Rape\n",
      "(legacy\n",
      "definition)2     351 non-null float64\n",
      "Robbery                       351 non-null int64\n",
      "Aggravated\n",
      "assault            351 non-null float64\n",
      "Property\n",
      "crime                351 non-null float64\n",
      "Burglary                      351 non-null int64\n",
      "Larceny-\n",
      "theft                351 non-null float64\n",
      "Motor\n",
      "vehicle\n",
      "theft           351 non-null float64\n",
      "Arson3                        351 non-null float64\n",
      "MurderBurglary                351 non-null int64\n",
      "dtypes: float64(9), int64(4), object(1)\n",
      "memory usage: 38.5+ KB\n"
     ]
    }
   ],
   "source": [
    "df.info()"
   ]
  },
  {
   "cell_type": "code",
   "execution_count": 81,
   "metadata": {},
   "outputs": [
    {
     "name": "stdout",
     "output_type": "stream",
     "text": [
      "('\\nCoefficients: \\n', array([[ 1.10269027e-07, -3.79325454e-05,  7.99392596e-03,\n",
      "         2.15913874e-01]]))\n",
      "('\\nIntercept: \\n', array([-0.00014975]))\n",
      "\n",
      "R-squared:\n",
      "0.12086997252171693\n"
     ]
    }
   ],
   "source": [
    "print('\\nCoefficients: \\n', regr.coef_)\n",
    "print('\\nIntercept: \\n', regr.intercept_)\n",
    "print('\\nR-squared:')\n",
    "print(regr.score(X, Y))"
   ]
  },
  {
   "cell_type": "code",
   "execution_count": null,
   "metadata": {},
   "outputs": [],
   "source": []
  }
 ],
 "metadata": {
  "kernelspec": {
   "display_name": "Python 2",
   "language": "python",
   "name": "python2"
  },
  "language_info": {
   "codemirror_mode": {
    "name": "ipython",
    "version": 2
   },
   "file_extension": ".py",
   "mimetype": "text/x-python",
   "name": "python",
   "nbconvert_exporter": "python",
   "pygments_lexer": "ipython2",
   "version": "2.7.15"
  }
 },
 "nbformat": 4,
 "nbformat_minor": 2
}
