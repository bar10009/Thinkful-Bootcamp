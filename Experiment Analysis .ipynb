{
 "cells": [
  {
   "cell_type": "markdown",
   "metadata": {},
   "source": [
    "Read the following descriptions of an experiment and its analysis, \n",
    "\n",
    "identify the flaws in each, \n",
    "\n",
    "describe what you would do to correct them\n",
    "\n",
    "The rules of the A|B\n",
    "Does it have two versions?\n",
    "Does it have a sample that can be divided into two groups?\n",
    "What is your intention, do you have a hypothesis, what do you expect to happen?\n",
    "What is your outcome of interest? What is your key metric to measure this over time?\n",
    "Other variables that make sure the sample groups are similar.\n",
    "\n",
    "Is it Biased? "
   ]
  },
  {
   "cell_type": "markdown",
   "metadata": {},
   "source": [
    "Experiment:\n",
    "1.\n",
    "The Sith Lords are concerned that their recruiting slogan, \"Give In to Your Anger,\" isn't very effective. Darth Vader develops an alternative slogan, \"Together We Can Rule the Galaxy.\" \n",
    "\n",
    "They compare the slogans on two groups of 50 captured droids each. \n",
    "\n",
    "Were each group given a look at each slogan? What happend to the other 45 droids that decided not to join with Vader? Why didn't they join the dark side with palpatine. The group wasn't homogeneous. We need to test all droids for each slogan.  \n",
    "\n",
    "In one group, Emperor Palpatine delivers the \"Anger\" slogan. In the other, Darth Vader presents the \"Together\" slogan. 20 droids convert to the Dark Side after hearing Palpatine's slogan.\n",
    "\n",
    "While only 5 droids convert after hearing Vader's. \n",
    "\n",
    "The Sith's data scientist concludes that \"Anger\" is a more effective slogan and should continue to be used."
   ]
  },
  {
   "cell_type": "markdown",
   "metadata": {},
   "source": [
    "2.\n",
    "In the past, the Jedi have had difficulty with public relations. \n",
    "\n",
    "They send two envoys, Jar Jar Binks and Mace Windu, to four friendly and four unfriendly planets respectively, with the goal of promoting favorable feelings toward the Jedi. \n",
    "\n",
    "Upon their return, the envoys learn that Jar Jar was much more effective than Windu: Over 75% of the people surveyed said their attitudes had become more favorable after speaking with Jar Jar, while only 65% said their attitudes had become more favorable after speaking with Windu. This makes Windu angry, because he is sure that he had a better success rate than Jar Jar on every planet. The Jedi choose Jar Jar to be their representative in the future.\n",
    "\n",
    "The visits should be made by each Jedi to each planet unfriendly or friendly. Also the two Jedi were given either all friendly planets or unfriendly ones. This is biased towards Jar Jar's success since he has the advantage of visiting the planets that are biased towards Jedi already. They already love the Jedi."
   ]
  },
  {
   "cell_type": "markdown",
   "metadata": {},
   "source": [
    "3.\n",
    "A company with work sites in five different countries has sent you data on employee satisfaction rates for workers in Human Resources and workers in Information Technology. Most HR workers are concentrated in three of the countries, while IT workers are equally distributed across worksites. The company requests a report on satisfaction for each job type. You calculate average job satisfaction for HR and for IT and present the report.\n",
    "\n",
    "I think the report should be on the satisfaction of each department in each worksite location. The averages of eac should be taken to avoid simpsons paradox. There might also be contextual bias, and assignment bias at work as well."
   ]
  },
  {
   "cell_type": "markdown",
   "metadata": {},
   "source": [
    "4.\n",
    "When people install the Happy Days Fitness Tracker app, they are asked to \"opt in\" to a data collection scheme where their level of physical activity data is automatically sent to the company for product research purposes. During your interview with the company, they tell you that the app is very effective because after installing the app, the data show that people's activity levels rise steadily.\n",
    "\n",
    "The data is rising steadily not necessarily the activity levels of those people."
   ]
  },
  {
   "cell_type": "markdown",
   "metadata": {},
   "source": [
    "5.\n",
    "To prevent cheating, a teacher writes three versions of a test. She stacks the three versions together, first all copies of Version A, then all copies of Version B, then all copies of Version C. As students arrive for the exam, each student takes a test. When grading the test, the teacher finds that students who took Version B scored higher than students who took either Version A or Version C. She concludes from this that Version B is easier, and discards it.\n",
    "\n",
    "If the intention of the experiement was to discover cheating in the classroom then version b is probably the group of students that cheated. The teacher should review those tests more throughly before she discards them. "
   ]
  }
 ],
 "metadata": {
  "kernelspec": {
   "display_name": "Python 3",
   "language": "python",
   "name": "python3"
  },
  "language_info": {
   "codemirror_mode": {
    "name": "ipython",
    "version": 3
   },
   "file_extension": ".py",
   "mimetype": "text/x-python",
   "name": "python",
   "nbconvert_exporter": "python",
   "pygments_lexer": "ipython3",
   "version": "3.5.2"
  }
 },
 "nbformat": 4,
 "nbformat_minor": 2
}
