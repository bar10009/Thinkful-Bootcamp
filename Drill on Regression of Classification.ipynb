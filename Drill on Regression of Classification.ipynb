{
 "cells": [
  {
   "cell_type": "code",
   "execution_count": 1,
   "metadata": {},
   "outputs": [],
   "source": [
    "import numpy as np\n",
    "import pandas as pd\n",
    "import matplotlib.pyplot as plt\n",
    "import seaborn as sns\n",
    "import scipy.stats as stats\n",
    "from scipy.stats import ttest_ind"
   ]
  },
  {
   "cell_type": "markdown",
   "metadata": {},
   "source": [
    "For each of the following situations, decide if you would model using a regression or classification model. Discuss your reasoning with your mentor next time you meet.\n",
    "\n",
    "For a classification model, that variable will be categorical. This means that the variable only takes discrete values from within a specified set.\n",
    "\n",
    "For a regression model, that variable will be a continuous one.\n",
    "\n",
    "1. The amount a person will spend on a given site in the next 24 months.\n",
    "We'll use a regression model because we are interested in one categorial variable (one person) and we will get the amount spent over a continuous amount of time. Also, when we want to average this number together we can because regression makes that easier for us. \n",
    "\n",
    "2. What color car someone is going to buy.\n",
    "Classification, we are looing at a catergorical variable. Te color changes and there are different categories of color probably. These choices can be sorted our more easily by thinking of each descion as a descrite number, an ordinal number.\n",
    "\n",
    "3. How many children a family will have.\n",
    "Categorical\n",
    "\n",
    "4. If someone will sign up for a service.\n",
    "Categorial ,either yes or no \n",
    "\n",
    "5. The number of times someone will get sick in a year.\n",
    "Cat we just tally hup each time someone gets sick\n",
    "\n",
    "6. The probability someone will get sick in the next month.\n",
    "Reg because we're interested in the averages of the paitient that may get sick. We also want to track this progress over time. There is not distinct yes no response to this. \n",
    "\n",
    "7. Which medicine will work best for a given patient.\n",
    "Reg again we don't know for sure. We will assign a probability like in the senerio above to decide in the future on this.\n",
    "\n",
    "8. Submit a link to your work below."
   ]
  }
 ],
 "metadata": {
  "kernelspec": {
   "display_name": "Python 3",
   "language": "python",
   "name": "python3"
  },
  "language_info": {
   "codemirror_mode": {
    "name": "ipython",
    "version": 3
   },
   "file_extension": ".py",
   "mimetype": "text/x-python",
   "name": "python",
   "nbconvert_exporter": "python",
   "pygments_lexer": "ipython3",
   "version": "3.5.2"
  }
 },
 "nbformat": 4,
 "nbformat_minor": 2
}
