{
 "cells": [
  {
   "cell_type": "code",
   "execution_count": 1,
   "metadata": {},
   "outputs": [],
   "source": [
    "%matplotlib inline\n",
    "import numpy as np\n",
    "import pandas as pd\n",
    "import scipy\n",
    "import sklearn\n",
    "import matplotlib.pyplot as plt\n",
    "import seaborn as sns"
   ]
  },
  {
   "cell_type": "markdown",
   "metadata": {},
   "source": [
    "Categorize each of the following research questions as \"good\" or \"bad\", and provide alternative formulations for the bad ones. Save your responses in a document of some kind, submit a link below, and discuss your reasoning with your mentor.\n",
    "\n",
    "1. What is the 1994 rate of juvenile delinquency in the U.S.?\n",
    "2. What can we do to reduce juvenile delinquency in the U.S.?\n",
    "3. Does education play a role in reducing juvenile delinquents' return to crime?\n",
    "4. How many customers does AT&T currently serve in Washington, DC?\n",
    "5. What factors lead consumers to choose AT&T over other service providers?\n",
    "6. How can AT&T attract more customers?\n",
    "7. Why did the Challenger Shuttle explode?\n",
    "8. Which genes are associated with increased risk of breast cancer?\n",
    "9. Is it better to read to children at night or in the morning?\n",
    "10. How does Google’s search algorithm work?\n"
   ]
  },
  {
   "cell_type": "markdown",
   "metadata": {},
   "source": [
    "1. Good, because this is a question that is valid has a continuous number in nature. That being the rate of juvenile delinguency in the U.S.\n",
    "2. This is also good because of the same reason for question 1.\n",
    "3. Given the data we can create a test to compare these two variables. And how education plays a role on jd in the US\n",
    "\n",
    "4. This is a discrete single number that deals with a binary outcome\n",
    "5. This one isn't throught trough to the point where we can ask a question that can be tested. An example of a testable version of this question might be \"of these factors which one had the greatest effect on customer churn\"\n",
    "6. A better version of this might be something like \"which method is most effective in attracting more cutomers A or B\" and the A/B test to find the answer\n",
    "7. Bad question, there are too many variables. What exactly are you curious about the challenger's failure? \n",
    "\n",
    "8. Good. We can test for which genes over others are associated with increased risk of breast cancer. Of this gorup of women which genes show to be apparent risk of breast cancer?\"\n",
    "9. Good question. We can test this.\n",
    "10. There doen;t seem to be an apparant goal for this question other than finding out what\n"
   ]
  }
 ],
 "metadata": {
  "kernelspec": {
   "display_name": "Python 2",
   "language": "python",
   "name": "python2"
  },
  "language_info": {
   "codemirror_mode": {
    "name": "ipython",
    "version": 2
   },
   "file_extension": ".py",
   "mimetype": "text/x-python",
   "name": "python",
   "nbconvert_exporter": "python",
   "pygments_lexer": "ipython2",
   "version": "2.7.15"
  }
 },
 "nbformat": 4,
 "nbformat_minor": 2
}
