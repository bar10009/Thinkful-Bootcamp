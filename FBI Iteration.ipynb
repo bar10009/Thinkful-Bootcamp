{
 "cells": [
  {
   "cell_type": "code",
   "execution_count": 40,
   "metadata": {},
   "outputs": [],
   "source": [
    "import math\n",
    "import warnings\n",
    "\n",
    "from IPython.display import display\n",
    "from matplotlib import pyplot as plt\n",
    "import numpy as np\n",
    "import pandas as pd\n",
    "import seaborn as sns\n",
    "from sklearn import linear_model\n",
    "import statsmodels.formula.api as smf\n",
    "import scipy as sp\n",
    "from scipy.stats import boxcox\n",
    "# Display preferences.\n",
    "%matplotlib inline\n",
    "pd.options.display.float_format = '{:.3f}'.format\n",
    "\n",
    "# Suppress annoying harmless error.\n",
    "warnings.filterwarnings(\n",
    "    action=\"ignore\",\n",
    "    module=\"scipy\",\n",
    "    message=\"^internal gelsd\"\n",
    ")"
   ]
  },
  {
   "cell_type": "code",
   "execution_count": 41,
   "metadata": {},
   "outputs": [],
   "source": [
    "#2013 data\n",
    "ny = pd.read_excel(\"/Users/bradleyrhyins/Desktop/Thinkful-Projects/table_8_offenses_known_to_law_enforcement_new_york_by_city_2013.xls\", sep=r'\\\\t')\n",
    "nj = pd.read_excel(\"/Users/bradleyrhyins/Downloads/table_8_offenses_known_to_law_enforcement_new_jersey_by_city_2013.xls\", sep=r'\\\\t')\n",
    "ct = pd.read_excel(\"/Users/bradleyrhyins/Downloads/table_8_offenses_known_to_law_enforcement_connecticut_by_city_2013.xls\", sep=r'\\\\t')"
   ]
  },
  {
   "cell_type": "code",
   "execution_count": 42,
   "metadata": {},
   "outputs": [],
   "source": [
    "#2012 data\n",
    "ny12 = pd.read_excel(\"/Users/bradleyrhyins/Downloads/table_8_offenses_known_to_law_enforcement_by_new_york_by_city_2012.xls\", sep=r'\\\\t')\n",
    "nj12 = pd.read_excel(\"/Users/bradleyrhyins/Downloads/table_8_offenses_known_to_law_enforcement_by_new_jersey_by_city_2012.xls\", sep=r'\\\\t')\n",
    "ct12 = pd.read_excel(\"/Users/bradleyrhyins/Downloads/table_8_offenses_known_to_law_enforcement_by_connecticut_by_city_2012.xls\", sep=r'\\\\t')"
   ]
  },
  {
   "cell_type": "code",
   "execution_count": 43,
   "metadata": {},
   "outputs": [],
   "source": [
    "#2014 data\n",
    "ny14 = pd.read_excel(\"/Users/bradleyrhyins/Downloads/Table_8_Offenses_Known_to_Law_Enforcement_by_New_York_by_City_2014.xls\", sep=r'\\\\t')\n",
    "nj14 = pd.read_excel(\"/Users/bradleyrhyins/Downloads/Table_8_Offenses_Known_to_Law_Enforcement_by_New_Jersey_by_City_2014.xls\", sep=r'\\\\t')\n",
    "ct14 = pd.read_excel(\"/Users/bradleyrhyins/Downloads/Table_8_Offenses_Known_to_Law_Enforcement_by_Connecticut_by_City_2014.xls\", sep=r'\\\\t')"
   ]
  },
  {
   "cell_type": "code",
   "execution_count": 51,
   "metadata": {},
   "outputs": [],
   "source": [
    "#get rid of nans\n",
    "nj.fillna(0, inplace=True)"
   ]
  },
  {
   "cell_type": "code",
   "execution_count": 62,
   "metadata": {},
   "outputs": [
    {
     "data": {
      "text/plain": [
       "Index([                        u'City',                   u'Population',\n",
       "                     u'Violent\\ncrime',                       u'Murder',\n",
       "       u'Rape\\n(revised\\ndefinition)1',  u'Rape\\n(legacy\\ndefinition)2',\n",
       "                            u'Robbery',          u'Aggravated\\nassault',\n",
       "                    u'Property\\ncrime',                     u'Burglary',\n",
       "                    u'Larceny-\\ntheft',        u'Motor\\nvehicle\\ntheft',\n",
       "                              u'Arson',                u'Propertycrime',\n",
       "                     u'MurderBurglary'],\n",
       "      dtype='object')"
      ]
     },
     "execution_count": 62,
     "metadata": {},
     "output_type": "execute_result"
    }
   ],
   "source": [
    "nj.columns"
   ]
  },
  {
   "cell_type": "code",
   "execution_count": 63,
   "metadata": {},
   "outputs": [
    {
     "data": {
      "text/html": [
       "<div>\n",
       "<style scoped>\n",
       "    .dataframe tbody tr th:only-of-type {\n",
       "        vertical-align: middle;\n",
       "    }\n",
       "\n",
       "    .dataframe tbody tr th {\n",
       "        vertical-align: top;\n",
       "    }\n",
       "\n",
       "    .dataframe thead th {\n",
       "        text-align: right;\n",
       "    }\n",
       "</style>\n",
       "<table border=\"1\" class=\"dataframe\">\n",
       "  <thead>\n",
       "    <tr style=\"text-align: right;\">\n",
       "      <th></th>\n",
       "      <th>City</th>\n",
       "      <th>Population</th>\n",
       "      <th>Violent\n",
       "crime</th>\n",
       "      <th>Murder</th>\n",
       "      <th>Rape\n",
       "(revised\n",
       "definition)1</th>\n",
       "      <th>Rape\n",
       "(legacy\n",
       "definition)2</th>\n",
       "      <th>Robbery</th>\n",
       "      <th>Aggravated\n",
       "assault</th>\n",
       "      <th>Property\n",
       "crime</th>\n",
       "      <th>Burglary</th>\n",
       "      <th>Larceny-\n",
       "theft</th>\n",
       "      <th>Motor\n",
       "vehicle\n",
       "theft</th>\n",
       "      <th>Arson</th>\n",
       "      <th>Propertycrime</th>\n",
       "      <th>MurderBurglary</th>\n",
       "    </tr>\n",
       "  </thead>\n",
       "  <tbody>\n",
       "    <tr>\n",
       "      <th>0</th>\n",
       "      <td>Aberdeen Township</td>\n",
       "      <td>18150.000</td>\n",
       "      <td>19.000</td>\n",
       "      <td>0.000</td>\n",
       "      <td>0.000</td>\n",
       "      <td>0.000</td>\n",
       "      <td>1</td>\n",
       "      <td>6.000</td>\n",
       "      <td>237.000</td>\n",
       "      <td>1</td>\n",
       "      <td>185.000</td>\n",
       "      <td>10.000</td>\n",
       "      <td>0.000</td>\n",
       "      <td>0</td>\n",
       "      <td>1</td>\n",
       "    </tr>\n",
       "    <tr>\n",
       "      <th>1</th>\n",
       "      <td>Absecon</td>\n",
       "      <td>8380.000</td>\n",
       "      <td>21.000</td>\n",
       "      <td>0.000</td>\n",
       "      <td>0.000</td>\n",
       "      <td>2.000</td>\n",
       "      <td>1</td>\n",
       "      <td>15.000</td>\n",
       "      <td>266.000</td>\n",
       "      <td>1</td>\n",
       "      <td>169.000</td>\n",
       "      <td>6.000</td>\n",
       "      <td>0.000</td>\n",
       "      <td>0</td>\n",
       "      <td>1</td>\n",
       "    </tr>\n",
       "    <tr>\n",
       "      <th>2</th>\n",
       "      <td>Allendale</td>\n",
       "      <td>6712.000</td>\n",
       "      <td>0.000</td>\n",
       "      <td>0.000</td>\n",
       "      <td>0.000</td>\n",
       "      <td>0.000</td>\n",
       "      <td>0</td>\n",
       "      <td>0.000</td>\n",
       "      <td>37.000</td>\n",
       "      <td>1</td>\n",
       "      <td>29.000</td>\n",
       "      <td>2.000</td>\n",
       "      <td>0.000</td>\n",
       "      <td>0</td>\n",
       "      <td>0</td>\n",
       "    </tr>\n",
       "    <tr>\n",
       "      <th>3</th>\n",
       "      <td>Allenhurst</td>\n",
       "      <td>493.000</td>\n",
       "      <td>0.000</td>\n",
       "      <td>0.000</td>\n",
       "      <td>0.000</td>\n",
       "      <td>0.000</td>\n",
       "      <td>0</td>\n",
       "      <td>0.000</td>\n",
       "      <td>39.000</td>\n",
       "      <td>1</td>\n",
       "      <td>18.000</td>\n",
       "      <td>1.000</td>\n",
       "      <td>0.000</td>\n",
       "      <td>0</td>\n",
       "      <td>0</td>\n",
       "    </tr>\n",
       "    <tr>\n",
       "      <th>4</th>\n",
       "      <td>Allentown</td>\n",
       "      <td>1812.000</td>\n",
       "      <td>3.000</td>\n",
       "      <td>0.000</td>\n",
       "      <td>0.000</td>\n",
       "      <td>0.000</td>\n",
       "      <td>0</td>\n",
       "      <td>3.000</td>\n",
       "      <td>18.000</td>\n",
       "      <td>1</td>\n",
       "      <td>6.000</td>\n",
       "      <td>0.000</td>\n",
       "      <td>0.000</td>\n",
       "      <td>0</td>\n",
       "      <td>0</td>\n",
       "    </tr>\n",
       "  </tbody>\n",
       "</table>\n",
       "</div>"
      ],
      "text/plain": [
       "                City  Population  Violent\\ncrime  Murder  \\\n",
       "0  Aberdeen Township   18150.000          19.000   0.000   \n",
       "1            Absecon    8380.000          21.000   0.000   \n",
       "2          Allendale    6712.000           0.000   0.000   \n",
       "3         Allenhurst     493.000           0.000   0.000   \n",
       "4          Allentown    1812.000           3.000   0.000   \n",
       "\n",
       "   Rape\\n(revised\\ndefinition)1  Rape\\n(legacy\\ndefinition)2  Robbery  \\\n",
       "0                         0.000                        0.000        1   \n",
       "1                         0.000                        2.000        1   \n",
       "2                         0.000                        0.000        0   \n",
       "3                         0.000                        0.000        0   \n",
       "4                         0.000                        0.000        0   \n",
       "\n",
       "   Aggravated\\nassault  Property\\ncrime  Burglary  Larceny-\\ntheft  \\\n",
       "0                6.000          237.000         1          185.000   \n",
       "1               15.000          266.000         1          169.000   \n",
       "2                0.000           37.000         1           29.000   \n",
       "3                0.000           39.000         1           18.000   \n",
       "4                3.000           18.000         1            6.000   \n",
       "\n",
       "   Motor\\nvehicle\\ntheft  Arson  Propertycrime  MurderBurglary  \n",
       "0                 10.000  0.000              0               1  \n",
       "1                  6.000  0.000              0               1  \n",
       "2                  2.000  0.000              0               0  \n",
       "3                  1.000  0.000              0               0  \n",
       "4                  0.000  0.000              0               0  "
      ]
     },
     "metadata": {},
     "output_type": "display_data"
    }
   ],
   "source": [
    "# Acquire, load, and preview the data.\n",
    "display(nj.head())"
   ]
  },
  {
   "cell_type": "code",
   "execution_count": 64,
   "metadata": {},
   "outputs": [],
   "source": [
    "nj[\"Robbery\"] = [1 if x > 0 else 0 for x in nj[\"Robbery\"]]\n",
    "nj[\"Propertycrime\"] = [1 if x > 0 else 0 for x in nj[\"Murder\"]]\n",
    "nj[\"Burglary\"] = [1 if x > 0 else 0 for x in nj[\"Burglary\"]]"
   ]
  },
  {
   "cell_type": "code",
   "execution_count": 65,
   "metadata": {},
   "outputs": [
    {
     "name": "stdout",
     "output_type": "stream",
     "text": [
      "                City  Population  Violent\\ncrime  Murder  \\\n",
      "0  Aberdeen Township   18150.000          19.000   0.000   \n",
      "1            Absecon    8380.000          21.000   0.000   \n",
      "2          Allendale    6712.000           0.000   0.000   \n",
      "3         Allenhurst     493.000           0.000   0.000   \n",
      "4          Allentown    1812.000           3.000   0.000   \n",
      "\n",
      "   Rape\\n(revised\\ndefinition)1  Rape\\n(legacy\\ndefinition)2  Robbery  \\\n",
      "0                         0.000                        0.000        1   \n",
      "1                         0.000                        2.000        1   \n",
      "2                         0.000                        0.000        0   \n",
      "3                         0.000                        0.000        0   \n",
      "4                         0.000                        0.000        0   \n",
      "\n",
      "   Aggravated\\nassault  Property\\ncrime  Burglary  Larceny-\\ntheft  \\\n",
      "0                6.000          237.000         1          185.000   \n",
      "1               15.000          266.000         1          169.000   \n",
      "2                0.000           37.000         1           29.000   \n",
      "3                0.000           39.000         1           18.000   \n",
      "4                3.000           18.000         1            6.000   \n",
      "\n",
      "   Motor\\nvehicle\\ntheft  Arson  Propertycrime  MurderBurglary  \n",
      "0                 10.000  0.000              0               1  \n",
      "1                  6.000  0.000              0               1  \n",
      "2                  2.000  0.000              0               0  \n",
      "3                  1.000  0.000              0               0  \n",
      "4                  0.000  0.000              0               0  \n"
     ]
    }
   ],
   "source": [
    "print nj.head()"
   ]
  },
  {
   "cell_type": "code",
   "execution_count": 66,
   "metadata": {},
   "outputs": [],
   "source": [
    "nj[\"MurderBurglary\"] = [x*y for x, y in zip(nj[\"Robbery\"], nj[\"Burglary\"])]"
   ]
  },
  {
   "cell_type": "code",
   "execution_count": 67,
   "metadata": {},
   "outputs": [
    {
     "data": {
      "text/plain": [
       "LinearRegression(copy_X=True, fit_intercept=True, n_jobs=1, normalize=False)"
      ]
     },
     "execution_count": 67,
     "metadata": {},
     "output_type": "execute_result"
    }
   ],
   "source": [
    "# Instantiate and fit our model.\n",
    "regr = linear_model.LinearRegression()\n",
    "#use this format for formatting sample examples in course material\n",
    "Y = nj['Propertycrime'].values.reshape(-1, 1)\n",
    "X = nj[['Population','Robbery','Burglary','MurderBurglary']]\n",
    "regr.fit(X, Y)"
   ]
  },
  {
   "cell_type": "code",
   "execution_count": 68,
   "metadata": {},
   "outputs": [
    {
     "name": "stdout",
     "output_type": "stream",
     "text": [
      "('\\nCoefficients: \\n', array([[ 6.68537940e-06, -2.73373520e-02,  7.78211023e-03,\n",
      "         1.11881034e-01]]))\n",
      "('\\nIntercept: \\n', array([-0.00554803]))\n",
      "\n",
      "R-squared:\n",
      "0.2377019535450201\n"
     ]
    }
   ],
   "source": [
    "print('\\nCoefficients: \\n', regr.coef_)\n",
    "print('\\nIntercept: \\n', regr.intercept_)\n",
    "print('\\nR-squared:')\n",
    "print(regr.score(X, Y))"
   ]
  },
  {
   "cell_type": "code",
   "execution_count": 69,
   "metadata": {},
   "outputs": [],
   "source": [
    "nj[\"logPop\"] = [0 if x == 0 else np.log(x) for x in nj[\"Population\"]]\n",
    "nj[\"logRob\"] = [0 if x == 0 else np.log(x) for x in nj[\"Robbery\"]]\n",
    "nj[\"logBur\"] = [0 if x == 0 else np.log(x) for x in nj[\"Burglary\"]]\n",
    "nj[\"logMB\"] = [0 if x == 0 else np.log(x) for x in nj[\"MurderBurglary\"]]"
   ]
  },
  {
   "cell_type": "code",
   "execution_count": null,
   "metadata": {},
   "outputs": [],
   "source": []
  },
  {
   "cell_type": "code",
   "execution_count": null,
   "metadata": {},
   "outputs": [],
   "source": []
  },
  {
   "cell_type": "code",
   "execution_count": null,
   "metadata": {},
   "outputs": [],
   "source": []
  },
  {
   "cell_type": "code",
   "execution_count": null,
   "metadata": {},
   "outputs": [],
   "source": [
    "# Extract predicted values.\n",
    "predicted = regr.predict(X).ravel()\n",
    "actual = data['Sales']\n",
    "\n",
    "# Calculate the error, also called the residual.\n",
    "residual = actual - predicted\n",
    "\n",
    "# This looks a bit concerning.\n",
    "plt.hist(residual)\n",
    "plt.title('Residual counts')\n",
    "plt.xlabel('Residual')\n",
    "plt.ylabel('Count')\n",
    "plt.show()"
   ]
  },
  {
   "cell_type": "code",
   "execution_count": null,
   "metadata": {},
   "outputs": [],
   "source": []
  },
  {
   "cell_type": "code",
   "execution_count": null,
   "metadata": {},
   "outputs": [],
   "source": []
  },
  {
   "cell_type": "code",
   "execution_count": null,
   "metadata": {},
   "outputs": [],
   "source": []
  },
  {
   "cell_type": "code",
   "execution_count": null,
   "metadata": {},
   "outputs": [],
   "source": []
  },
  {
   "cell_type": "code",
   "execution_count": null,
   "metadata": {},
   "outputs": [],
   "source": []
  },
  {
   "cell_type": "code",
   "execution_count": null,
   "metadata": {},
   "outputs": [],
   "source": []
  },
  {
   "cell_type": "code",
   "execution_count": null,
   "metadata": {},
   "outputs": [],
   "source": []
  },
  {
   "cell_type": "code",
   "execution_count": null,
   "metadata": {},
   "outputs": [],
   "source": []
  }
 ],
 "metadata": {
  "kernelspec": {
   "display_name": "Python 2",
   "language": "python",
   "name": "python2"
  },
  "language_info": {
   "codemirror_mode": {
    "name": "ipython",
    "version": 2
   },
   "file_extension": ".py",
   "mimetype": "text/x-python",
   "name": "python",
   "nbconvert_exporter": "python",
   "pygments_lexer": "ipython2",
   "version": "2.7.15"
  }
 },
 "nbformat": 4,
 "nbformat_minor": 2
}
