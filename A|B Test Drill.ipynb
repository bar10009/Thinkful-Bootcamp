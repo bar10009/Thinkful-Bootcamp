{
 "cells": [
  {
   "cell_type": "markdown",
   "metadata": {},
   "source": [
    "DRILL: Getting Testy...\n",
    "For each of the following questions, outline how you could use an A/B test to find an answer. Be sure to identify all five key components of an A/B test we outlined above.\n",
    "\n",
    "Does a new supplement help people sleep better?\n",
    "\n",
    "Will new uniforms help a gym's business?\n",
    "\n",
    "Will a new homepage improve my online exotic pet rental business?\n",
    "\n",
    "If I put 'please read' in the email subject will more people read my emails?\n"
   ]
  },
  {
   "cell_type": "markdown",
   "metadata": {},
   "source": [
    "#Does a new supplement help people sleep better?\n",
    "1. Does it have two versions?\n",
    "2. Does it have a sample that can be divided into two groups?\n",
    "3. What is your intention, do you have a hypothesis, what do you expect to happen?\n",
    "4. What is your outcome of interest? What is your key metric to measure this over time?\n",
    "5. Other variables that make sure the sample groups are similar. \n",
    "\n",
    "On Sleeping better\n",
    "In deciding wether or not a new sample helps people sleep better we can assume that one has already been created and used in a sample population. So therefore we have two versions and satisfy the first key componant of an A/B test. \n",
    "\n",
    "We can then divide the sample population into two groups, ones that take the old version and ones that take the new version.\n",
    "\n",
    "My interntion as the lead data scientist on this project would be to discover which version helps people sleep better. What are the demographics of the subjects and will this version satisfy the most people in the poplulation we are selling on the market. \n",
    "\n",
    "The most important part in this process is to decide on how to measure the results. Which key metric is best to track the two versions? What does it mean to sleep better? For me it would be a combination of things. The length of time asleep, level of discomfort during sleep and after waking, and level of restfullness I feel upon awakening.\n",
    "\n",
    "Other variables that are important to consider are demographics of the sample I mentioned earlier, dosage level is it 5m or 10m, enviornmental effects on the subject; the room too cold or hot, is the bed uncomfortable, did the person eat well before bed, drink enough water? Are they healthy? "
   ]
  },
  {
   "cell_type": "markdown",
   "metadata": {},
   "source": [
    "#Will new uniforms help a gym's business?\n",
    "1. Does it have two versions?\n",
    "2. Does it have a sample that can be divided into two groups?\n",
    "3. What is your intention, do you have a hypothesis, what do you expect to happen?\n",
    "4. What is your outcome of interest? What is your key metric to measure this over time?\n",
    "5. Other variables that make sure the sample groups are similar. \n",
    "\n",
    "Yes.\n",
    "\n",
    "Yes.\n",
    "\n",
    "My intention is to improve moral in the workplace, I think that it will.\n",
    "\n",
    "I would like to track that happiness levels of employees and cutomers over time. \n",
    "\n",
    "The preferences and the materials used in the uniforms. "
   ]
  }
 ],
 "metadata": {
  "kernelspec": {
   "display_name": "Python 3",
   "language": "python",
   "name": "python3"
  },
  "language_info": {
   "codemirror_mode": {
    "name": "ipython",
    "version": 3
   },
   "file_extension": ".py",
   "mimetype": "text/x-python",
   "name": "python",
   "nbconvert_exporter": "python",
   "pygments_lexer": "ipython3",
   "version": "3.5.2"
  }
 },
 "nbformat": 4,
 "nbformat_minor": 2
}
