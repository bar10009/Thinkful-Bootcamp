{
 "cells": [
  {
   "cell_type": "code",
   "execution_count": 2,
   "metadata": {},
   "outputs": [],
   "source": [
    "import numpy as np\n",
    "import pandas as pd\n",
    "import matplotlib.pyplot as plt\n",
    "import seaborn as sns\n",
    "import scipy.stats as stats\n",
    "from scipy.stats import ttest_ind"
   ]
  },
  {
   "cell_type": "markdown",
   "metadata": {},
   "source": [
    "Know the course material for the mock interview including the "
   ]
  },
  {
   "cell_type": "markdown",
   "metadata": {},
   "source": [
    "Source of data https://archive.ics.uci.edu/ml/datasets/Adult\n",
    "\n",
    "Research proposal https://courses.thinkful.com/data-201v1/project/1.4.5 Problem To predict wether a person makes over 50k per year.\n",
    "\n",
    "Potential Solution Create an A/B test for specific columns against each other. The one group that is more successful at sorting out people that earn greater than 50k wins and will be tested against the next group/column. For example; testing for level of education against occupation. Or testing different levels of education against each other or types of occupations against each other.\n",
    "\n",
    "Method of testing the potential solution A/B testing"
   ]
  },
  {
   "cell_type": "markdown",
   "metadata": {},
   "source": [
    "Below I address the five key components of A/B Testing as follows: \n",
    "\n",
    "Q1. Does it have two versions?\n",
    "Q2. Does it have a sample that can be divided into two groups?\n",
    "Q3. What is your intention, do you have a hypothesis, what do you expect to happen?\n",
    "Q4. What is your outcome of interest? What is your key metric to measure this over time?\n",
    "Q5. Other variables that make sure the sample groups are similar. \n",
    "\n",
    "A1. Yes, I am focusing on the age of the people being tested. There are old and there are young. These groups can be seperated into an age below 40 and one above 40. \n",
    "\n",
    "A2. Furthermore these two groups can be divided into those that earn more than 50K/year and those that earn less than 50k/year. I hope to see an increase in income over time across all ages. I hythotesize that the income earned at an older ages is higher than that at a younger ages regrdless of any other variable. Mostly because younger people have more time to earn money and older people have less time. I also think that because of this older people have a more difficult time rising to a higher income level. I want to find the point at which this generally happens. Then move on to applying this method to race, workclass, and sex.\n",
    "\n",
    "A3. My intention is to discover which age one switches over into the higher income bracket. \n",
    "\n",
    "A4. The most important part in this process IMHO is to decide on how to measure the results. The key metric to track is income over time to keep it simple at the moment. \n",
    "\n",
    "A5.Other variables that are important to consider are demographics of the sample I mentioned earlier, enviornmental effects. But the only one that I seem to need is that they are all humans, people."
   ]
  },
  {
   "cell_type": "markdown",
   "metadata": {},
   "source": [
    "Narrative Analytics and experimentation\n",
    "\n",
    "Previously we've asked you to look into a dataset to ask and answer a series of questions. You are now ready for the next step in that process.\n",
    "\n",
    "First, dive in and explore the data set. Include your code and visuals from this process in your final write up. While doing this, look for something that provokes a question; specifically one that can be answered with an experiment.\n",
    "\n",
    "The main component of this capstone is a research proposal. Using the data set you selected, propose and outline an experiment plan. The plan should consist of three key components:\n",
    "\n",
    "1. Analysis that highlights your experimental hypothesis.\n",
    "2. A rollout plan showing how you would implement and rollout the experiment\n",
    "3. An evaluation plan showing what constitutes success in this experiment\n",
    "\n",
    "Your experiment should be as real as possible. Though you obviously will not have access to the full production environment to deploy your experiment, it should be feasible and of interest to the parties involved with your actual data source.\n",
    "\n",
    "The target size of your research proposal should be 3-5 pages.\n",
    "\n",
    "Good Luck!\n",
    "\n",
    "Oh, and when you're done don't forget to have your mentor mark the goal as complete, which should let you schedule your first mock interview!"
   ]
  },
  {
   "cell_type": "markdown",
   "metadata": {},
   "source": [
    "My buring question is this: Which age group earns more, at which age do people start to earn more than 50k? What trends exist if I were to divide the dataset into two age groups. What story does income graphes over time, tell? Which two age should I choose, whihc groups are testable and show correlation and significant statistical support in order to begin answering these questions?"
   ]
  },
  {
   "cell_type": "code",
   "execution_count": 3,
   "metadata": {},
   "outputs": [],
   "source": [
    "l = [\"age\", 'workclass', \"fmlwgt\", 'education', 'education-num', 'marital-status', 'occupation', 'relationship', 'race', 'sex', 'capital-gain', 'capital-loss', 'hours-per-week', 'native-country', 'Income level']"
   ]
  },
  {
   "cell_type": "code",
   "execution_count": 4,
   "metadata": {},
   "outputs": [],
   "source": [
    "df = pd.read_csv(\"/Users/bradleyrhyins/Downloads/adult.csv\", names = l)"
   ]
  },
  {
   "cell_type": "code",
   "execution_count": 5,
   "metadata": {},
   "outputs": [
    {
     "data": {
      "text/html": [
       "<div>\n",
       "<style scoped>\n",
       "    .dataframe tbody tr th:only-of-type {\n",
       "        vertical-align: middle;\n",
       "    }\n",
       "\n",
       "    .dataframe tbody tr th {\n",
       "        vertical-align: top;\n",
       "    }\n",
       "\n",
       "    .dataframe thead th {\n",
       "        text-align: right;\n",
       "    }\n",
       "</style>\n",
       "<table border=\"1\" class=\"dataframe\">\n",
       "  <thead>\n",
       "    <tr style=\"text-align: right;\">\n",
       "      <th></th>\n",
       "      <th>age</th>\n",
       "      <th>workclass</th>\n",
       "      <th>fmlwgt</th>\n",
       "      <th>education</th>\n",
       "      <th>education-num</th>\n",
       "      <th>marital-status</th>\n",
       "      <th>occupation</th>\n",
       "      <th>relationship</th>\n",
       "      <th>race</th>\n",
       "      <th>sex</th>\n",
       "      <th>capital-gain</th>\n",
       "      <th>capital-loss</th>\n",
       "      <th>hours-per-week</th>\n",
       "      <th>native-country</th>\n",
       "      <th>Income level</th>\n",
       "    </tr>\n",
       "  </thead>\n",
       "  <tbody>\n",
       "    <tr>\n",
       "      <th>0</th>\n",
       "      <td>39</td>\n",
       "      <td>State-gov</td>\n",
       "      <td>77516</td>\n",
       "      <td>Bachelors</td>\n",
       "      <td>13</td>\n",
       "      <td>Never-married</td>\n",
       "      <td>Adm-clerical</td>\n",
       "      <td>Not-in-family</td>\n",
       "      <td>White</td>\n",
       "      <td>Male</td>\n",
       "      <td>2174</td>\n",
       "      <td>0</td>\n",
       "      <td>40</td>\n",
       "      <td>United-States</td>\n",
       "      <td>&lt;=50K</td>\n",
       "    </tr>\n",
       "    <tr>\n",
       "      <th>1</th>\n",
       "      <td>50</td>\n",
       "      <td>Self-emp-not-inc</td>\n",
       "      <td>83311</td>\n",
       "      <td>Bachelors</td>\n",
       "      <td>13</td>\n",
       "      <td>Married-civ-spouse</td>\n",
       "      <td>Exec-managerial</td>\n",
       "      <td>Husband</td>\n",
       "      <td>White</td>\n",
       "      <td>Male</td>\n",
       "      <td>0</td>\n",
       "      <td>0</td>\n",
       "      <td>13</td>\n",
       "      <td>United-States</td>\n",
       "      <td>&lt;=50K</td>\n",
       "    </tr>\n",
       "    <tr>\n",
       "      <th>2</th>\n",
       "      <td>38</td>\n",
       "      <td>Private</td>\n",
       "      <td>215646</td>\n",
       "      <td>HS-grad</td>\n",
       "      <td>9</td>\n",
       "      <td>Divorced</td>\n",
       "      <td>Handlers-cleaners</td>\n",
       "      <td>Not-in-family</td>\n",
       "      <td>White</td>\n",
       "      <td>Male</td>\n",
       "      <td>0</td>\n",
       "      <td>0</td>\n",
       "      <td>40</td>\n",
       "      <td>United-States</td>\n",
       "      <td>&lt;=50K</td>\n",
       "    </tr>\n",
       "    <tr>\n",
       "      <th>3</th>\n",
       "      <td>53</td>\n",
       "      <td>Private</td>\n",
       "      <td>234721</td>\n",
       "      <td>11th</td>\n",
       "      <td>7</td>\n",
       "      <td>Married-civ-spouse</td>\n",
       "      <td>Handlers-cleaners</td>\n",
       "      <td>Husband</td>\n",
       "      <td>Black</td>\n",
       "      <td>Male</td>\n",
       "      <td>0</td>\n",
       "      <td>0</td>\n",
       "      <td>40</td>\n",
       "      <td>United-States</td>\n",
       "      <td>&lt;=50K</td>\n",
       "    </tr>\n",
       "    <tr>\n",
       "      <th>4</th>\n",
       "      <td>28</td>\n",
       "      <td>Private</td>\n",
       "      <td>338409</td>\n",
       "      <td>Bachelors</td>\n",
       "      <td>13</td>\n",
       "      <td>Married-civ-spouse</td>\n",
       "      <td>Prof-specialty</td>\n",
       "      <td>Wife</td>\n",
       "      <td>Black</td>\n",
       "      <td>Female</td>\n",
       "      <td>0</td>\n",
       "      <td>0</td>\n",
       "      <td>40</td>\n",
       "      <td>Cuba</td>\n",
       "      <td>&lt;=50K</td>\n",
       "    </tr>\n",
       "  </tbody>\n",
       "</table>\n",
       "</div>"
      ],
      "text/plain": [
       "   age          workclass  fmlwgt   education  education-num  \\\n",
       "0   39          State-gov   77516   Bachelors             13   \n",
       "1   50   Self-emp-not-inc   83311   Bachelors             13   \n",
       "2   38            Private  215646     HS-grad              9   \n",
       "3   53            Private  234721        11th              7   \n",
       "4   28            Private  338409   Bachelors             13   \n",
       "\n",
       "        marital-status          occupation    relationship    race      sex  \\\n",
       "0        Never-married        Adm-clerical   Not-in-family   White     Male   \n",
       "1   Married-civ-spouse     Exec-managerial         Husband   White     Male   \n",
       "2             Divorced   Handlers-cleaners   Not-in-family   White     Male   \n",
       "3   Married-civ-spouse   Handlers-cleaners         Husband   Black     Male   \n",
       "4   Married-civ-spouse      Prof-specialty            Wife   Black   Female   \n",
       "\n",
       "   capital-gain  capital-loss  hours-per-week  native-country Income level  \n",
       "0          2174             0              40   United-States        <=50K  \n",
       "1             0             0              13   United-States        <=50K  \n",
       "2             0             0              40   United-States        <=50K  \n",
       "3             0             0              40   United-States        <=50K  \n",
       "4             0             0              40            Cuba        <=50K  "
      ]
     },
     "execution_count": 5,
     "metadata": {},
     "output_type": "execute_result"
    }
   ],
   "source": [
    "df.head()"
   ]
  },
  {
   "cell_type": "code",
   "execution_count": 25,
   "metadata": {},
   "outputs": [
    {
     "data": {
      "text/plain": [
       "{' ?',\n",
       " ' Federal-gov',\n",
       " ' Local-gov',\n",
       " ' Never-worked',\n",
       " ' Private',\n",
       " ' Self-emp-inc',\n",
       " ' Self-emp-not-inc',\n",
       " ' State-gov',\n",
       " ' Without-pay'}"
      ]
     },
     "execution_count": 25,
     "metadata": {},
     "output_type": "execute_result"
    }
   ],
   "source": [
    "df_private = df[df['workclass'] == \" Private\" ]\n",
    "df_self_emp = df[df['workclass'] == \" Self-emp-not-inc\"]\n",
    "df_fed = df[df['workclass'] == \" Federal-gov\"]\n",
    "df_local = df[df['workclass'] == \" Local-gov\"]\n",
    "df_nw = df[df['workclass'] == \" Never- worked\"]\n",
    "df_state_gov = df[df['workclass'] == \" State-gov\"]\n",
    "df_without_pay = df[df['workclass'] == \" Without-pay\"]\n",
    "df_self_emp_not_inc = df[df['workclass'] == \" Self-emp-not-inc\"]\n",
    "\n",
    "set(df[\"workclass\"])"
   ]
  },
  {
   "cell_type": "code",
   "execution_count": 7,
   "metadata": {},
   "outputs": [
    {
     "data": {
      "text/plain": [
       "(array([  177.,   266.,   811.,   695.,  1256.,  7780.,  6099.,   729.,\n",
       "         4445.,   438.]),\n",
       " array([  1. ,   2.5,   4. ,   5.5,   7. ,   8.5,  10. ,  11.5,  13. ,\n",
       "         14.5,  16. ]),\n",
       " <a list of 10 Patch objects>)"
      ]
     },
     "execution_count": 7,
     "metadata": {},
     "output_type": "execute_result"
    },
    {
     "data": {
      "image/png": "[encoded data removed]",
      "text/plain": [
       "<matplotlib.figure.Figure at 0x109b5bbe0>"
      ]
     },
     "metadata": {},
     "output_type": "display_data"
    }
   ],
   "source": [
    "#add labels\n",
    "plt.hist(df_private[\"education-num\"])"
   ]
  },
  {
   "cell_type": "code",
   "execution_count": 10,
   "metadata": {},
   "outputs": [
    {
     "data": {
      "text/plain": [
       "(array([   32.,    94.,   101.,    60.,    19.,  1352.,   108.,   470.,\n",
       "          124.,   181.]),\n",
       " array([  2. ,   3.4,   4.8,   6.2,   7.6,   9. ,  10.4,  11.8,  13.2,\n",
       "         14.6,  16. ]),\n",
       " <a list of 10 Patch objects>)"
      ]
     },
     "execution_count": 10,
     "metadata": {},
     "output_type": "execute_result"
    },
    {
     "data": {
      "image/png": "[encoded data removed]",
      "text/plain": [
       "<matplotlib.figure.Figure at 0x10b1af4e0>"
      ]
     },
     "metadata": {},
     "output_type": "display_data"
    }
   ],
   "source": [
    "plt.hist(df_self_emp[\"education-num\"])"
   ]
  },
  {
   "cell_type": "code",
   "execution_count": 9,
   "metadata": {},
   "outputs": [
    {
     "name": "stdout",
     "output_type": "stream",
     "text": [
      "6.04228927496\n"
     ]
    }
   ],
   "source": [
    "sample1 = df_private[\"education-num\"]\n",
    "sample2 = df_self_emp[\"education-num\"]\n",
    "\n",
    "size = np.array([len(sample1), len(sample2)])\n",
    "\n",
    "sd = np.array([sample1.std(), sample2.std()])\n",
    "\n",
    "diff=sample2.mean( ) -sample1.mean()\n",
    "diff_se = (sum(sd ** 2 / size)) ** 0.5\n",
    "\n",
    "print(diff/diff_se)"
   ]
  },
  {
   "cell_type": "code",
   "execution_count": 8,
   "metadata": {},
   "outputs": [
    {
     "name": "stdout",
     "output_type": "stream",
     "text": [
      "Ttest_indResult(statistic=6.042289274961508, pvalue=1.7052584559347813e-09)\n"
     ]
    }
   ],
   "source": [
    "print(ttest_ind(sample2, sample1, equal_var=False))"
   ]
  },
  {
   "cell_type": "code",
   "execution_count": 9,
   "metadata": {},
   "outputs": [
    {
     "data": {
      "image/png": "[encoded data removed]",
      "text/plain": [
       "<matplotlib.figure.Figure at 0x10b29c5f8>"
      ]
     },
     "metadata": {},
     "output_type": "display_data"
    }
   ],
   "source": [
    "plt.hist(sample1, alpha=0.5, label='Sample1',normed=True) \n",
    "plt.hist(sample2, alpha=0.5, label='Sample2',normed=True) \n",
    "plt.legend(loc='upper right') \n",
    "plt.show()"
   ]
  },
  {
   "cell_type": "code",
   "execution_count": 10,
   "metadata": {},
   "outputs": [
    {
     "name": "stdout",
     "output_type": "stream",
     "text": [
      "       age workclass  fmlwgt      education  education-num  \\\n",
      "2       38   Private  215646        HS-grad              9   \n",
      "3       53   Private  234721           11th              7   \n",
      "4       28   Private  338409      Bachelors             13   \n",
      "5       37   Private  284582        Masters             14   \n",
      "6       49   Private  160187            9th              5   \n",
      "8       31   Private   45781        Masters             14   \n",
      "9       42   Private  159449      Bachelors             13   \n",
      "10      37   Private  280464   Some-college             10   \n",
      "12      23   Private  122272      Bachelors             13   \n",
      "13      32   Private  205019     Assoc-acdm             12   \n",
      "14      40   Private  121772      Assoc-voc             11   \n",
      "15      34   Private  245487        7th-8th              4   \n",
      "17      32   Private  186824        HS-grad              9   \n",
      "18      38   Private   28887           11th              7   \n",
      "20      40   Private  193524      Doctorate             16   \n",
      "21      54   Private  302146        HS-grad              9   \n",
      "23      43   Private  117037           11th              7   \n",
      "24      59   Private  109015        HS-grad              9   \n",
      "26      19   Private  168294        HS-grad              9   \n",
      "28      39   Private  367260        HS-grad              9   \n",
      "29      49   Private  193366        HS-grad              9   \n",
      "31      20   Private  266015   Some-college             10   \n",
      "32      45   Private  386940      Bachelors             13   \n",
      "35      48   Private  242406           11th              7   \n",
      "36      21   Private  197200   Some-college             10   \n",
      "37      19   Private  544091        HS-grad              9   \n",
      "38      31   Private   84154   Some-college             10   \n",
      "40      31   Private  507875            9th              5   \n",
      "42      24   Private  172987      Bachelors             13   \n",
      "43      49   Private   94638        HS-grad              9   \n",
      "...    ...       ...     ...            ...            ...   \n",
      "32517   36   Private  131459        7th-8th              4   \n",
      "32519   46   Private  364548   Some-college             10   \n",
      "32520   27   Private  177398        HS-grad              9   \n",
      "32521   33   Private  273243        HS-grad              9   \n",
      "32522   58   Private  147707           11th              7   \n",
      "32523   30   Private   77266        HS-grad              9   \n",
      "32524   26   Private  191648     Assoc-acdm             12   \n",
      "32526   32   Private  211349           10th              6   \n",
      "32527   22   Private  203715   Some-college             10   \n",
      "32528   31   Private  292592        HS-grad              9   \n",
      "32529   29   Private  125976        HS-grad              9   \n",
      "32532   34   Private  204461      Doctorate             16   \n",
      "32533   54   Private  337992      Bachelors             13   \n",
      "32534   37   Private  179137   Some-college             10   \n",
      "32535   22   Private  325033           12th              8   \n",
      "32536   34   Private  160216      Bachelors             13   \n",
      "32537   30   Private  345898        HS-grad              9   \n",
      "32538   38   Private  139180      Bachelors             13   \n",
      "32544   31   Private  199655        Masters             14   \n",
      "32546   37   Private  198216     Assoc-acdm             12   \n",
      "32547   43   Private  260761        HS-grad              9   \n",
      "32551   32   Private   34066           10th              6   \n",
      "32552   43   Private   84661      Assoc-voc             11   \n",
      "32553   32   Private  116138        Masters             14   \n",
      "32554   53   Private  321865        Masters             14   \n",
      "32555   22   Private  310152   Some-college             10   \n",
      "32556   27   Private  257302     Assoc-acdm             12   \n",
      "32557   40   Private  154374        HS-grad              9   \n",
      "32558   58   Private  151910        HS-grad              9   \n",
      "32559   22   Private  201490        HS-grad              9   \n",
      "\n",
      "               marital-status          occupation     relationship  \\\n",
      "2                    Divorced   Handlers-cleaners    Not-in-family   \n",
      "3          Married-civ-spouse   Handlers-cleaners          Husband   \n",
      "4          Married-civ-spouse      Prof-specialty             Wife   \n",
      "5          Married-civ-spouse     Exec-managerial             Wife   \n",
      "6       Married-spouse-absent       Other-service    Not-in-family   \n",
      "8               Never-married      Prof-specialty    Not-in-family   \n",
      "9          Married-civ-spouse     Exec-managerial          Husband   \n",
      "10         Married-civ-spouse     Exec-managerial          Husband   \n",
      "12              Never-married        Adm-clerical        Own-child   \n",
      "13              Never-married               Sales    Not-in-family   \n",
      "14         Married-civ-spouse        Craft-repair          Husband   \n",
      "15         Married-civ-spouse    Transport-moving          Husband   \n",
      "17              Never-married   Machine-op-inspct        Unmarried   \n",
      "18         Married-civ-spouse               Sales          Husband   \n",
      "20         Married-civ-spouse      Prof-specialty          Husband   \n",
      "21                  Separated       Other-service        Unmarried   \n",
      "23         Married-civ-spouse    Transport-moving          Husband   \n",
      "24                   Divorced        Tech-support        Unmarried   \n",
      "26              Never-married        Craft-repair        Own-child   \n",
      "28                   Divorced     Exec-managerial    Not-in-family   \n",
      "29         Married-civ-spouse        Craft-repair          Husband   \n",
      "31              Never-married               Sales        Own-child   \n",
      "32                   Divorced     Exec-managerial        Own-child   \n",
      "35              Never-married   Machine-op-inspct        Unmarried   \n",
      "36              Never-married   Machine-op-inspct        Own-child   \n",
      "37          Married-AF-spouse        Adm-clerical             Wife   \n",
      "38         Married-civ-spouse               Sales          Husband   \n",
      "40         Married-civ-spouse   Machine-op-inspct          Husband   \n",
      "42         Married-civ-spouse        Tech-support          Husband   \n",
      "43                  Separated        Adm-clerical        Unmarried   \n",
      "...                       ...                 ...              ...   \n",
      "32517      Married-civ-spouse        Craft-repair          Husband   \n",
      "32519      Married-civ-spouse     Exec-managerial          Husband   \n",
      "32520           Never-married       Other-service        Unmarried   \n",
      "32521      Married-civ-spouse        Craft-repair          Husband   \n",
      "32522      Married-civ-spouse               Sales          Husband   \n",
      "32523                Divorced    Transport-moving    Not-in-family   \n",
      "32524           Never-married   Machine-op-inspct   Other-relative   \n",
      "32526      Married-civ-spouse    Transport-moving          Husband   \n",
      "32527           Never-married        Adm-clerical        Own-child   \n",
      "32528      Married-civ-spouse   Machine-op-inspct             Wife   \n",
      "32529               Separated               Sales        Unmarried   \n",
      "32532      Married-civ-spouse      Prof-specialty          Husband   \n",
      "32533      Married-civ-spouse     Exec-managerial          Husband   \n",
      "32534                Divorced        Adm-clerical        Unmarried   \n",
      "32535           Never-married     Protective-serv        Own-child   \n",
      "32536           Never-married     Exec-managerial    Not-in-family   \n",
      "32537           Never-married        Craft-repair    Not-in-family   \n",
      "32538                Divorced      Prof-specialty        Unmarried   \n",
      "32544                Divorced       Other-service    Not-in-family   \n",
      "32546                Divorced        Tech-support    Not-in-family   \n",
      "32547      Married-civ-spouse   Machine-op-inspct          Husband   \n",
      "32551      Married-civ-spouse   Handlers-cleaners          Husband   \n",
      "32552      Married-civ-spouse               Sales          Husband   \n",
      "32553           Never-married        Tech-support    Not-in-family   \n",
      "32554      Married-civ-spouse     Exec-managerial          Husband   \n",
      "32555           Never-married     Protective-serv    Not-in-family   \n",
      "32556      Married-civ-spouse        Tech-support             Wife   \n",
      "32557      Married-civ-spouse   Machine-op-inspct          Husband   \n",
      "32558                 Widowed        Adm-clerical        Unmarried   \n",
      "32559           Never-married        Adm-clerical        Own-child   \n",
      "\n",
      "                      race      sex  capital-gain  capital-loss  \\\n",
      "2                    White     Male             0             0   \n",
      "3                    Black     Male             0             0   \n",
      "4                    Black   Female             0             0   \n",
      "5                    White   Female             0             0   \n",
      "6                    Black   Female             0             0   \n",
      "8                    White   Female         14084             0   \n",
      "9                    White     Male          5178             0   \n",
      "10                   Black     Male             0             0   \n",
      "12                   White   Female             0             0   \n",
      "13                   Black     Male             0             0   \n",
      "14      Asian-Pac-Islander     Male             0             0   \n",
      "15      Amer-Indian-Eskimo     Male             0             0   \n",
      "17                   White     Male             0             0   \n",
      "18                   White     Male             0             0   \n",
      "20                   White     Male             0             0   \n",
      "21                   Black   Female             0             0   \n",
      "23                   White     Male             0          2042   \n",
      "24                   White   Female             0             0   \n",
      "26                   White     Male             0             0   \n",
      "28                   White     Male             0             0   \n",
      "29                   White     Male             0             0   \n",
      "31                   Black     Male             0             0   \n",
      "32                   White     Male             0          1408   \n",
      "35                   White     Male             0             0   \n",
      "36                   White     Male             0             0   \n",
      "37                   White   Female             0             0   \n",
      "38                   White     Male             0             0   \n",
      "40                   White     Male             0             0   \n",
      "42                   White     Male             0             0   \n",
      "43                   White   Female             0             0   \n",
      "...                    ...      ...           ...           ...   \n",
      "32517                White     Male             0             0   \n",
      "32519                White     Male             0             0   \n",
      "32520                White   Female             0             0   \n",
      "32521                Black     Male             0             0   \n",
      "32522                White     Male             0             0   \n",
      "32523                White     Male             0             0   \n",
      "32524                White   Female             0             0   \n",
      "32526                White     Male             0             0   \n",
      "32527                White     Male             0             0   \n",
      "32528                White   Female             0             0   \n",
      "32529                White   Female             0             0   \n",
      "32532                White     Male             0             0   \n",
      "32533   Asian-Pac-Islander     Male             0             0   \n",
      "32534                White   Female             0             0   \n",
      "32535                Black     Male             0             0   \n",
      "32536                White   Female             0             0   \n",
      "32537                Black     Male             0             0   \n",
      "32538                Black   Female         15020             0   \n",
      "32544                Other   Female             0             0   \n",
      "32546                White   Female             0             0   \n",
      "32547                White     Male             0             0   \n",
      "32551   Amer-Indian-Eskimo     Male             0             0   \n",
      "32552                White     Male             0             0   \n",
      "32553   Asian-Pac-Islander     Male             0             0   \n",
      "32554                White     Male             0             0   \n",
      "32555                White     Male             0             0   \n",
      "32556                White   Female             0             0   \n",
      "32557                White     Male             0             0   \n",
      "32558                White   Female             0             0   \n",
      "32559                White     Male             0             0   \n",
      "\n",
      "       hours-per-week  native-country Income level  \n",
      "2                  40   United-States        <=50K  \n",
      "3                  40   United-States        <=50K  \n",
      "4                  40            Cuba        <=50K  \n",
      "5                  40   United-States        <=50K  \n",
      "6                  16         Jamaica        <=50K  \n",
      "8                  50   United-States         >50K  \n",
      "9                  40   United-States         >50K  \n",
      "10                 80   United-States         >50K  \n",
      "12                 30   United-States        <=50K  \n",
      "13                 50   United-States        <=50K  \n",
      "14                 40               ?         >50K  \n",
      "15                 45          Mexico        <=50K  \n",
      "17                 40   United-States        <=50K  \n",
      "18                 50   United-States        <=50K  \n",
      "20                 60   United-States         >50K  \n",
      "21                 20   United-States        <=50K  \n",
      "23                 40   United-States        <=50K  \n",
      "24                 40   United-States        <=50K  \n",
      "26                 40   United-States        <=50K  \n",
      "28                 80   United-States        <=50K  \n",
      "29                 40   United-States        <=50K  \n",
      "31                 44   United-States        <=50K  \n",
      "32                 40   United-States        <=50K  \n",
      "35                 40     Puerto-Rico        <=50K  \n",
      "36                 40   United-States        <=50K  \n",
      "37                 25   United-States        <=50K  \n",
      "38                 38               ?         >50K  \n",
      "40                 43   United-States        <=50K  \n",
      "42                 50   United-States        <=50K  \n",
      "43                 40   United-States        <=50K  \n",
      "...               ...             ...          ...  \n",
      "32517              40   United-States        <=50K  \n",
      "32519              48   United-States         >50K  \n",
      "32520              64   United-States        <=50K  \n",
      "32521              40   United-States        <=50K  \n",
      "32522              40   United-States        <=50K  \n",
      "32523              55   United-States        <=50K  \n",
      "32524              15   United-States        <=50K  \n",
      "32526              40   United-States        <=50K  \n",
      "32527              40   United-States        <=50K  \n",
      "32528              40   United-States        <=50K  \n",
      "32529              35   United-States        <=50K  \n",
      "32532              60   United-States         >50K  \n",
      "32533              50           Japan         >50K  \n",
      "32534              39   United-States        <=50K  \n",
      "32535              35   United-States        <=50K  \n",
      "32536              55   United-States         >50K  \n",
      "32537              46   United-States        <=50K  \n",
      "32538              45   United-States         >50K  \n",
      "32544              30   United-States        <=50K  \n",
      "32546              40   United-States        <=50K  \n",
      "32547              40          Mexico        <=50K  \n",
      "32551              40   United-States        <=50K  \n",
      "32552              45   United-States        <=50K  \n",
      "32553              11          Taiwan        <=50K  \n",
      "32554              40   United-States         >50K  \n",
      "32555              40   United-States        <=50K  \n",
      "32556              38   United-States        <=50K  \n",
      "32557              40   United-States         >50K  \n",
      "32558              40   United-States        <=50K  \n",
      "32559              20   United-States        <=50K  \n",
      "\n",
      "[22696 rows x 15 columns]\n"
     ]
    }
   ],
   "source": [
    "print(df_private)"
   ]
  },
  {
   "cell_type": "code",
   "execution_count": 24,
   "metadata": {},
   "outputs": [
    {
     "data": {
      "text/plain": [
       "{' ?',\n",
       " ' Adm-clerical',\n",
       " ' Armed-Forces',\n",
       " ' Craft-repair',\n",
       " ' Exec-managerial',\n",
       " ' Farming-fishing',\n",
       " ' Handlers-cleaners',\n",
       " ' Machine-op-inspct',\n",
       " ' Other-service',\n",
       " ' Priv-house-serv',\n",
       " ' Prof-specialty',\n",
       " ' Protective-serv',\n",
       " ' Sales',\n",
       " ' Tech-support',\n",
       " ' Transport-moving'}"
      ]
     },
     "execution_count": 24,
     "metadata": {},
     "output_type": "execute_result"
    }
   ],
   "source": [
    "df_adm_clerical = df[df['occupation'] == \" Adm-clerical\"]\n",
    "df_armed_forces = df[df['occupation'] == \" Armed-Forces\"]\n",
    "df_craft_repair = df[df['occupation'] == \" Craft-repair\"]\n",
    "df_exec_managerial\n",
    "\n",
    "set(df[\"occupation\"])"
   ]
  },
  {
   "cell_type": "code",
   "execution_count": 23,
   "metadata": {},
   "outputs": [
    {
     "data": {
      "text/plain": [
       "(array([ 0.,  0.,  0.,  0.,  0.,  0.,  0.,  0.,  0.,  0.]),\n",
       " array([ 0. ,  0.1,  0.2,  0.3,  0.4,  0.5,  0.6,  0.7,  0.8,  0.9,  1. ]),\n",
       " <a list of 10 Patch objects>)"
      ]
     },
     "execution_count": 23,
     "metadata": {},
     "output_type": "execute_result"
    },
    {
     "data": {
      "image/png": "[encoded data removed]",
      "text/plain": [
       "<matplotlib.figure.Figure at 0x10ace2710>"
      ]
     },
     "metadata": {},
     "output_type": "display_data"
    }
   ],
   "source": [
    "plt.hist(df_u50k[\"education-num\"])"
   ]
  },
  {
   "cell_type": "code",
   "execution_count": null,
   "metadata": {},
   "outputs": [],
   "source": []
  },
  {
   "cell_type": "code",
   "execution_count": 11,
   "metadata": {},
   "outputs": [
    {
     "data": {
      "text/plain": [
       "22696"
      ]
     },
     "execution_count": 11,
     "metadata": {},
     "output_type": "execute_result"
    }
   ],
   "source": [
    "len(df_private)"
   ]
  },
  {
   "cell_type": "code",
   "execution_count": 12,
   "metadata": {},
   "outputs": [
    {
     "data": {
      "text/plain": [
       "2541"
      ]
     },
     "execution_count": 12,
     "metadata": {},
     "output_type": "execute_result"
    }
   ],
   "source": [
    "len(df_self_emp)"
   ]
  },
  {
   "cell_type": "code",
   "execution_count": 13,
   "metadata": {},
   "outputs": [
    {
     "data": {
      "text/plain": [
       "32561"
      ]
     },
     "execution_count": 13,
     "metadata": {},
     "output_type": "execute_result"
    }
   ],
   "source": [
    "len(df)"
   ]
  },
  {
   "cell_type": "code",
   "execution_count": 14,
   "metadata": {},
   "outputs": [
    {
     "name": "stdout",
     "output_type": "stream",
     "text": [
      "Index(['age', 'workclass', 'fmlwgt', 'education', 'education-num',\n",
      "       'marital-status', 'occupation', 'relationship', 'race', 'sex',\n",
      "       'capital-gain', 'capital-loss', 'hours-per-week', 'native-country',\n",
      "       'Income level'],\n",
      "      dtype='object')\n"
     ]
    }
   ],
   "source": [
    "print(df.columns)"
   ]
  },
  {
   "cell_type": "markdown",
   "metadata": {},
   "source": [
    "age: continuous. \n",
    "\n",
    "workclass: Private, Self-emp-not-inc, Self-emp-inc, Federal-gov, Local-gov, State-gov, Without-pay, Never-worked. \n",
    "\n",
    "fnlwgt: continuous. \n",
    "\n",
    "education: Bachelors, Some-college, 11th, HS-grad, Prof-school, Assoc-acdm, Assoc-voc, 9th, 7th-8th, 12th, Masters, \n",
    "\n",
    "1st-4th, 10th, Doctorate, 5th-6th, Preschool. \n",
    "\n",
    "education-num: continuous. \n",
    "\n",
    "marital-status: Married-civ-spouse, Divorced, Never-married, Separated, Widowed, Married-spouse-absent, Married-AF-spouse. \n",
    "\n",
    "occupation: Tech-support, Craft-repair, Other-service, Sales, Exec-managerial, Prof-specialty, Handlers-cleaners, \n",
    "\n",
    "Machine-op-inspct, Adm-clerical, Farming-fishing, Transport-moving, Priv-house-serv, Protective-serv, Armed-Forces. \n",
    "\n",
    "relationship: Wife, Own-child, Husband, Not-in-family, Other-relative, Unmarried. \n",
    "\n",
    "race: White, Asian-Pac-Islander, Amer-Indian-Eskimo, Other, Black. \n",
    "\n",
    "sex: Female, Male. \n",
    "\n",
    "capital-gain: continuous. \n",
    "\n",
    "capital-loss: continuous. \n",
    "\n",
    "hours-per-week: continuous. \n",
    "\n",
    "native-country: United-States, Cambodia, England, Puerto-Rico, Canada, Germany, Outlying-US(Guam-USVI-etc), India, Japan, Greece, South, China, Cuba, Iran, Honduras, Philippines, Italy, Poland, Jamaica, Vietnam, Mexico, Portugal, Ireland, France, Dominican-Republic, Laos, Ecuador, Taiwan, Haiti, Columbia, Hungary, Guatemala, Nicaragua, Scotland, Thailand, Yugoslavia, El-Salvador, Trinadad&Tobago, Peru, Hong, Holand-Netherlands."
   ]
  },
  {
   "cell_type": "code",
   "execution_count": 1,
   "metadata": {},
   "outputs": [
    {
     "ename": "NameError",
     "evalue": "name 'df' is not defined",
     "output_type": "error",
     "traceback": [
      "\u001b[0;31m---------------------------------------------------------------------------\u001b[0m",
      "\u001b[0;31mNameError\u001b[0m                                 Traceback (most recent call last)",
      "\u001b[0;32m<ipython-input-1-f420a45a56f5>\u001b[0m in \u001b[0;36m<module>\u001b[0;34m()\u001b[0m\n\u001b[1;32m      1\u001b[0m \u001b[0;31m#Creating multiple data frames for each variable that needs fleshing out\u001b[0m\u001b[0;34m\u001b[0m\u001b[0;34m\u001b[0m\u001b[0m\n\u001b[1;32m      2\u001b[0m \u001b[0;34m\u001b[0m\u001b[0m\n\u001b[0;32m----> 3\u001b[0;31m \u001b[0mdf_male\u001b[0m \u001b[0;34m=\u001b[0m \u001b[0mdf\u001b[0m\u001b[0;34m[\u001b[0m\u001b[0mdf\u001b[0m\u001b[0;34m[\u001b[0m\u001b[0;34m'sex'\u001b[0m\u001b[0;34m]\u001b[0m \u001b[0;34m==\u001b[0m \u001b[0;34m'Male'\u001b[0m\u001b[0;34m]\u001b[0m\u001b[0;34m\u001b[0m\u001b[0m\n\u001b[0m\u001b[1;32m      4\u001b[0m \u001b[0mdf_female\u001b[0m \u001b[0;34m=\u001b[0m \u001b[0mdf\u001b[0m\u001b[0;34m[\u001b[0m\u001b[0mdf\u001b[0m\u001b[0;34m[\u001b[0m\u001b[0;34m'sex'\u001b[0m\u001b[0;34m]\u001b[0m \u001b[0;34m==\u001b[0m \u001b[0;34m'Female'\u001b[0m\u001b[0;34m]\u001b[0m\u001b[0;34m\u001b[0m\u001b[0m\n\u001b[1;32m      5\u001b[0m \u001b[0mttest_ind\u001b[0m\u001b[0;34m(\u001b[0m\u001b[0mdf_male\u001b[0m\u001b[0;34m[\u001b[0m\u001b[0;34m' ... '\u001b[0m\u001b[0;34m]\u001b[0m\u001b[0;34m,\u001b[0m \u001b[0mdf_female\u001b[0m\u001b[0;34m[\u001b[0m\u001b[0;34m\" ... \"\u001b[0m\u001b[0;34m]\u001b[0m\u001b[0;34m)\u001b[0m\u001b[0;34m\u001b[0m\u001b[0m\n",
      "\u001b[0;31mNameError\u001b[0m: name 'df' is not defined"
     ]
    }
   ],
   "source": [
    "#Creating multiple data frames for each variable that needs fleshing out\n",
    "\n",
    "df_male = df[df['sex'] == 'Male']\n",
    "df_female = df[df['sex'] == 'Female']\n",
    "ttest_ind(df_male[' ... '], df_female[\" ... \"])\n"
   ]
  },
  {
   "cell_type": "code",
   "execution_count": null,
   "metadata": {},
   "outputs": [],
   "source": [
    "plt.hist(df_private[\"education-num099-------\"])"
   ]
  }
 ],
 "metadata": {
  "kernelspec": {
   "display_name": "Python 3",
   "language": "python",
   "name": "python3"
  },
  "language_info": {
   "codemirror_mode": {
    "name": "ipython",
    "version": 3
   },
   "file_extension": ".py",
   "mimetype": "text/x-python",
   "name": "python",
   "nbconvert_exporter": "python",
   "pygments_lexer": "ipython3",
   "version": "3.5.2"
  }
 },
 "nbformat": 4,
 "nbformat_minor": 2
}
