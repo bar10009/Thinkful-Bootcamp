{
 "cells": [
  {
   "cell_type": "code",
   "execution_count": null,
   "metadata": {},
   "outputs": [],
   "source": [
    "%matplotlib inline\n",
    "import numpy as np\n",
    "import pandas as pd\n",
    "import scipy\n",
    "import sklearn\n",
    "import matplotlib.pyplot as plt\n",
    "import seaborn as sns"
   ]
  },
  {
   "cell_type": "markdown",
   "metadata": {},
   "source": [
    "Challenge: Feedback analysis\n",
    " Estimated Time: 2-3 hours\n",
    "Now that you've spent some time tinkering with an example Naive Bayes Classifier, it's time to build your own.\n",
    "\n",
    "We've mentioned that Naive Bayes is particularly good for text classification problems. Before we made a spam filter. \n",
    "\n",
    "Now we'll perform a sentiment analysis, classifying whether feedback left on a website is either positive or negative.\n",
    "\n",
    "Again the UCI Machine Learning database has a nice labeled dataset of sentiment labelled sentences for us to use. This dataset was created for the paper From Group to Individual Labels using Deep Features, Kotzias et. al., KDD 2015.\n",
    "\n",
    "Pick one of the company data files and build your own classifier. When you're satisfied with its performance (at this point just using the accuracy measure shown in the example), test it on one of the other datasets to see how well these kinds of classifiers translate from one context to another.\n",
    "\n",
    "Include your model and a brief writeup of your feature engineering and selection process to submit and review with your mentor."
   ]
  },
  {
   "cell_type": "markdown",
   "metadata": {},
   "source": [
    "# Building a Classifier\n",
    "using the Yelp data in this file\n",
    "Accuracy measure"
   ]
  },
  {
   "cell_type": "code",
   "execution_count": null,
   "metadata": {},
   "outputs": [],
   "source": [
    "# Grab and process the raw data.\n",
    "#data_path = (\"https://github.com/bar10009/Thinkful-Bootcamp/blob/master/yelp_labelled\")\n",
    "#sms_raw = pd.read_csv(data_path, delimiter= '\\t', header=None)\n",
    "#sms_raw.columns = ['spam', 'message']"
   ]
  },
  {
   "cell_type": "code",
   "execution_count": null,
   "metadata": {},
   "outputs": [],
   "source": [
    "df = pd.read_csv(\"/Users/bradleyrhyins/Desktop/Thinkful-Projects/yelp_labelled.txt\", sep=r'\\\\t'\n",
    ",header=None)\n",
    "#df.columns=['review', 'label']"
   ]
  },
  {
   "cell_type": "markdown",
   "metadata": {},
   "source": [
    "Let’s get some basic information about the data. The .shape method tells us the number of rows and columns in the dataframe."
   ]
  },
  {
   "cell_type": "code",
   "execution_count": null,
   "metadata": {},
   "outputs": [],
   "source": [
    "df.shape"
   ]
  },
  {
   "cell_type": "code",
   "execution_count": null,
   "metadata": {},
   "outputs": [],
   "source": [
    "df.info()"
   ]
  },
  {
   "cell_type": "code",
   "execution_count": 123,
   "metadata": {},
   "outputs": [
    {
     "data": {
      "text/plain": [
       "Index([u'label', u'text', u'text length'], dtype='object')"
      ]
     },
     "execution_count": 123,
     "metadata": {},
     "output_type": "execute_result"
    }
   ],
   "source": [
    "DF.columns"
   ]
  },
  {
   "cell_type": "code",
   "execution_count": null,
   "metadata": {},
   "outputs": [],
   "source": [
    "df.columns= [\"text\"]"
   ]
  },
  {
   "cell_type": "code",
   "execution_count": null,
   "metadata": {},
   "outputs": [],
   "source": [
    "df.head()"
   ]
  },
  {
   "cell_type": "code",
   "execution_count": null,
   "metadata": {},
   "outputs": [],
   "source": [
    "label = [np.int(s.split(\"\\t\")[1]) for s in df[\"text\"]]"
   ]
  },
  {
   "cell_type": "code",
   "execution_count": null,
   "metadata": {},
   "outputs": [],
   "source": [
    "text = [s.split(\".\\t\")[0] for s in df[\"text\"]]"
   ]
  },
  {
   "cell_type": "code",
   "execution_count": null,
   "metadata": {},
   "outputs": [],
   "source": [
    "DF = pd.DataFrame({\"text\": text, \"label\": label})"
   ]
  },
  {
   "cell_type": "code",
   "execution_count": null,
   "metadata": {},
   "outputs": [],
   "source": [
    "DF['text length'] = DF['text'].apply(len)\n",
    "DF.head()"
   ]
  },
  {
   "cell_type": "code",
   "execution_count": null,
   "metadata": {},
   "outputs": [],
   "source": [
    "print DF.text"
   ]
  },
  {
   "cell_type": "code",
   "execution_count": null,
   "metadata": {},
   "outputs": [],
   "source": [
    "g = sns.FacetGrid(data=DF, col='text')\n",
    "g.map(plt.hist, 'text', bins=50)"
   ]
  },
  {
   "cell_type": "code",
   "execution_count": 125,
   "metadata": {},
   "outputs": [],
   "source": [
    "keywords = ['impressive', 'good', 'very good', 'better', 'love', 'loved', 'great']\n",
    "#Increase the number of keywords\n",
    "#Trying to predict positive\n",
    "#Increase number of features\n",
    "\n",
    "for key in keywords:\n",
    "    # Note that we add spaces around the key so that we're getting the word,\n",
    "    # not just pattern matching.\n",
    "    DF[str(key)] = DF.text.str.contains(\n",
    "        ' ' + str(key) + ' ',\n",
    "        case=False\n",
    "    )"
   ]
  },
  {
   "cell_type": "code",
   "execution_count": 126,
   "metadata": {},
   "outputs": [
    {
     "data": {
      "text/html": [
       "<div>\n",
       "<style scoped>\n",
       "    .dataframe tbody tr th:only-of-type {\n",
       "        vertical-align: middle;\n",
       "    }\n",
       "\n",
       "    .dataframe tbody tr th {\n",
       "        vertical-align: top;\n",
       "    }\n",
       "\n",
       "    .dataframe thead th {\n",
       "        text-align: right;\n",
       "    }\n",
       "</style>\n",
       "<table border=\"1\" class=\"dataframe\">\n",
       "  <thead>\n",
       "    <tr style=\"text-align: right;\">\n",
       "      <th></th>\n",
       "      <th>label</th>\n",
       "      <th>text</th>\n",
       "      <th>text length</th>\n",
       "      <th>impressive</th>\n",
       "      <th>good</th>\n",
       "      <th>very good</th>\n",
       "      <th>better</th>\n",
       "      <th>love</th>\n",
       "      <th>loved</th>\n",
       "      <th>great</th>\n",
       "    </tr>\n",
       "  </thead>\n",
       "  <tbody>\n",
       "    <tr>\n",
       "      <th>0</th>\n",
       "      <td>1</td>\n",
       "      <td>Wow... Loved this place</td>\n",
       "      <td>23</td>\n",
       "      <td>False</td>\n",
       "      <td>False</td>\n",
       "      <td>False</td>\n",
       "      <td>False</td>\n",
       "      <td>False</td>\n",
       "      <td>True</td>\n",
       "      <td>False</td>\n",
       "    </tr>\n",
       "    <tr>\n",
       "      <th>1</th>\n",
       "      <td>0</td>\n",
       "      <td>Crust is not good</td>\n",
       "      <td>17</td>\n",
       "      <td>False</td>\n",
       "      <td>False</td>\n",
       "      <td>False</td>\n",
       "      <td>False</td>\n",
       "      <td>False</td>\n",
       "      <td>False</td>\n",
       "      <td>False</td>\n",
       "    </tr>\n",
       "    <tr>\n",
       "      <th>2</th>\n",
       "      <td>0</td>\n",
       "      <td>Not tasty and the texture was just nasty</td>\n",
       "      <td>40</td>\n",
       "      <td>False</td>\n",
       "      <td>False</td>\n",
       "      <td>False</td>\n",
       "      <td>False</td>\n",
       "      <td>False</td>\n",
       "      <td>False</td>\n",
       "      <td>False</td>\n",
       "    </tr>\n",
       "    <tr>\n",
       "      <th>3</th>\n",
       "      <td>1</td>\n",
       "      <td>Stopped by during the late May bank holiday of...</td>\n",
       "      <td>86</td>\n",
       "      <td>False</td>\n",
       "      <td>False</td>\n",
       "      <td>False</td>\n",
       "      <td>False</td>\n",
       "      <td>False</td>\n",
       "      <td>True</td>\n",
       "      <td>False</td>\n",
       "    </tr>\n",
       "    <tr>\n",
       "      <th>4</th>\n",
       "      <td>1</td>\n",
       "      <td>The selection on the menu was great and so wer...</td>\n",
       "      <td>58</td>\n",
       "      <td>False</td>\n",
       "      <td>False</td>\n",
       "      <td>False</td>\n",
       "      <td>False</td>\n",
       "      <td>False</td>\n",
       "      <td>False</td>\n",
       "      <td>True</td>\n",
       "    </tr>\n",
       "  </tbody>\n",
       "</table>\n",
       "</div>"
      ],
      "text/plain": [
       "   label                                               text  text length  \\\n",
       "0      1                            Wow... Loved this place           23   \n",
       "1      0                                  Crust is not good           17   \n",
       "2      0           Not tasty and the texture was just nasty           40   \n",
       "3      1  Stopped by during the late May bank holiday of...           86   \n",
       "4      1  The selection on the menu was great and so wer...           58   \n",
       "\n",
       "   impressive   good  very good  better   love  loved  great  \n",
       "0       False  False      False   False  False   True  False  \n",
       "1       False  False      False   False  False  False  False  \n",
       "2       False  False      False   False  False  False  False  \n",
       "3       False  False      False   False  False   True  False  \n",
       "4       False  False      False   False  False  False   True  "
      ]
     },
     "execution_count": 126,
     "metadata": {},
     "output_type": "execute_result"
    }
   ],
   "source": [
    "DF.head()"
   ]
  },
  {
   "cell_type": "code",
   "execution_count": 128,
   "metadata": {},
   "outputs": [],
   "source": [
    "DF.columns\n",
    "#features\n",
    "\n",
    "list_features = DF.columns[2:]\n",
    "data = DF[list_features]\n",
    "target = DF[\"label\"]"
   ]
  },
  {
   "cell_type": "code",
   "execution_count": 129,
   "metadata": {},
   "outputs": [
    {
     "name": "stdout",
     "output_type": "stream",
     "text": [
      "Index([u'label', u'text', u'text length', u'impressive', u'good', u'very good',\n",
      "       u'better', u'love', u'loved', u'great'],\n",
      "      dtype='object')\n"
     ]
    }
   ],
   "source": [
    "print DF.columns "
   ]
  },
  {
   "cell_type": "code",
   "execution_count": 130,
   "metadata": {},
   "outputs": [
    {
     "name": "stdout",
     "output_type": "stream",
     "text": [
      "Index([u'text length', u'impressive', u'good', u'very good', u'better',\n",
      "       u'love', u'loved', u'great'],\n",
      "      dtype='object')\n"
     ]
    }
   ],
   "source": [
    "print list_features"
   ]
  },
  {
   "cell_type": "code",
   "execution_count": 131,
   "metadata": {},
   "outputs": [
    {
     "name": "stdout",
     "output_type": "stream",
     "text": [
      "     text length  impressive   good  very good  better   love  loved  great\n",
      "0             23       False  False      False   False  False   True  False\n",
      "1             17       False  False      False   False  False  False  False\n",
      "2             40       False  False      False   False  False  False  False\n",
      "3             86       False  False      False   False  False   True  False\n",
      "4             58       False  False      False   False  False  False   True\n",
      "5             45       False  False      False   False  False  False  False\n",
      "6             39       False  False      False   False  False  False  False\n",
      "7            110       False  False      False   False  False  False  False\n",
      "8             24       False  False      False   False  False  False   True\n",
      "9             13       False  False      False   False  False  False   True\n",
      "10            23       False  False      False   False  False  False  False\n",
      "11            17       False  False      False   False  False  False  False\n",
      "12            98       False  False      False   False  False  False  False\n",
      "13            61       False  False      False   False  False  False  False\n",
      "14            61       False  False      False   False  False  False  False\n",
      "15            49       False  False      False   False  False  False  False\n",
      "16            18       False  False      False   False  False  False  False\n",
      "17            37       False  False      False   False  False  False  False\n",
      "18            50       False  False      False   False  False  False  False\n",
      "19            19       False  False      False   False  False  False  False\n",
      "20            21       False  False      False   False  False  False  False\n",
      "21            17       False  False      False   False  False  False  False\n",
      "22            20       False  False      False   False  False  False  False\n",
      "23            51       False  False      False   False  False  False  False\n",
      "24            17       False  False      False   False  False  False  False\n",
      "25            66       False  False      False   False  False  False  False\n",
      "26            41       False  False      False   False  False  False  False\n",
      "27            72       False  False      False   False  False  False   True\n",
      "28           140       False  False      False   False  False  False  False\n",
      "29            32       False  False      False   False  False  False  False\n",
      "..           ...         ...    ...        ...     ...    ...    ...    ...\n",
      "970          135       False  False      False   False  False  False  False\n",
      "971           30       False  False      False   False  False  False  False\n",
      "972           69       False  False      False   False  False  False  False\n",
      "973           20       False  False      False   False  False  False  False\n",
      "974           61       False  False      False   False  False  False  False\n",
      "975           44       False  False      False   False  False  False  False\n",
      "976           74       False  False      False   False  False  False  False\n",
      "977           35       False  False      False   False  False  False  False\n",
      "978           35       False  False      False   False  False  False  False\n",
      "979           79       False  False      False   False  False  False  False\n",
      "980          112       False  False      False   False  False  False  False\n",
      "981           87       False  False      False   False  False  False  False\n",
      "982           22       False  False      False   False  False  False  False\n",
      "983          104       False  False      False   False  False  False  False\n",
      "984           43       False  False      False   False  False  False  False\n",
      "985          148       False  False      False    True  False  False  False\n",
      "986           93       False  False      False   False  False  False  False\n",
      "987           45       False  False      False   False  False  False  False\n",
      "988           57        True  False      False   False  False  False  False\n",
      "989           57       False  False      False   False  False  False  False\n",
      "990           89       False  False      False   False  False  False  False\n",
      "991           41       False  False      False   False  False  False  False\n",
      "992           74       False  False      False   False  False  False  False\n",
      "993           38       False  False      False   False  False  False  False\n",
      "994           39       False  False      False   False  False  False  False\n",
      "995           65       False  False      False   False  False  False  False\n",
      "996           23       False  False      False   False  False  False  False\n",
      "997           49       False  False      False   False  False  False  False\n",
      "998           90       False  False      False   False  False  False  False\n",
      "999          133       False  False      False   False  False  False  False\n",
      "\n",
      "[1000 rows x 8 columns]\n"
     ]
    }
   ],
   "source": [
    "print data"
   ]
  },
  {
   "cell_type": "code",
   "execution_count": 132,
   "metadata": {},
   "outputs": [
    {
     "name": "stdout",
     "output_type": "stream",
     "text": [
      "0      1\n",
      "1      0\n",
      "2      0\n",
      "3      1\n",
      "4      1\n",
      "5      0\n",
      "6      0\n",
      "7      0\n",
      "8      1\n",
      "9      1\n",
      "10     1\n",
      "11     0\n",
      "12     0\n",
      "13     1\n",
      "14     0\n",
      "15     0\n",
      "16     1\n",
      "17     0\n",
      "18     0\n",
      "19     0\n",
      "20     0\n",
      "21     1\n",
      "22     1\n",
      "23     1\n",
      "24     1\n",
      "25     1\n",
      "26     0\n",
      "27     1\n",
      "28     0\n",
      "29     0\n",
      "      ..\n",
      "970    0\n",
      "971    0\n",
      "972    0\n",
      "973    0\n",
      "974    0\n",
      "975    0\n",
      "976    0\n",
      "977    0\n",
      "978    0\n",
      "979    0\n",
      "980    0\n",
      "981    0\n",
      "982    0\n",
      "983    0\n",
      "984    0\n",
      "985    0\n",
      "986    0\n",
      "987    0\n",
      "988    0\n",
      "989    0\n",
      "990    0\n",
      "991    0\n",
      "992    0\n",
      "993    0\n",
      "994    0\n",
      "995    0\n",
      "996    0\n",
      "997    0\n",
      "998    0\n",
      "999    0\n",
      "Name: label, Length: 1000, dtype: int64\n"
     ]
    }
   ],
   "source": [
    "print target"
   ]
  },
  {
   "cell_type": "code",
   "execution_count": 133,
   "metadata": {},
   "outputs": [
    {
     "name": "stdout",
     "output_type": "stream",
     "text": [
      "Number of mislabeled points out of a total 1000 points : 416\n"
     ]
    }
   ],
   "source": [
    "from sklearn.naive_bayes import BernoulliNB\n",
    "\n",
    "# Instantiate our model and store it in a new variable.\n",
    "bnb = BernoulliNB()\n",
    "\n",
    "# Fit our model to the data.\n",
    "bnb.fit(data, target)\n",
    "\n",
    "# Classify, storing the result in a new variable.\n",
    "y_pred = bnb.predict(data)\n",
    "\n",
    "# Display our results.\n",
    "print(\"Number of mislabeled points out of a total {} points : {}\".format(\n",
    "    data.shape[0],\n",
    "    (target != y_pred).sum()\n",
    "))"
   ]
  },
  {
   "cell_type": "markdown",
   "metadata": {},
   "source": [
    "Out of 1000 points we labeled 416 point not accurate and 584 points accurrate \n",
    "The model is 58.4% accurate\n",
    "\n",
    "#Try to improve using more features "
   ]
  }
 ],
 "metadata": {
  "kernelspec": {
   "display_name": "Python 2",
   "language": "python",
   "name": "python2"
  }
 },
 "nbformat": 4,
 "nbformat_minor": 2
}
